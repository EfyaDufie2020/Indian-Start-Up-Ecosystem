{
 "cells": [
  {
   "cell_type": "markdown",
   "metadata": {},
   "source": [
    "# BUSINESS UNDERSTANDING\n",
    "\n",
    "\n",
    "0ur goal is to explore the data and come up with key insights that be will the springboard for us to venture into this fast growing market by analyzing the funding data from 2018 to 2021, focusing on the key factors such as the amount of funding received, sectors, stage of investment, their geographical location and other promising opportunities. Our analysis is done usingthe CRISP-DM process.\n",
    "\n",
    "\n",
    "\n",
    "# BUSINESS QUESTIONS\n",
    "\n",
    "1.Investor Influence: Who are the top investors in the indian ecosystem. What is their funding pattern and areas they will like to invest in?\n",
    "2. Which top 5 start-ups receives the most funding and reason why they get the most funds.?\n",
    "3. Industry Domaian: Which business domain receives the highest funding?\n",
    "4. Geographical Analysis: Which City and region in the india ecosystem are investors likely to channel their funds and the factors that affect their decisions\n",
    "5. Stage Analysis: What is the distribution of funding across different investment trends\n",
    "What is the trend of change in the average funding from the year 2018 t0 2021?\n",
    "\n",
    "\n",
    "\n",
    "\n"
   ]
  },
  {
   "cell_type": "markdown",
   "metadata": {},
   "source": [
    "# HYPOTHESIS TESTING\n",
    "\n",
    "\n",
    "We use hypothesis testing to do statistical test on the sampke to generate conclusions and inferences about the whole data. We develop a null and alternative hypothesis to focus on.\n",
    "\n",
    "Null Hypothesis (Ho): There is no significant difference in the amount of the funding received by start-ups across different sectors and stages.\n",
    "\n",
    "Alternate Hypothesis(H1): There is a significant difference in the amount of the funding received by start-ups across different sectors and stages."
   ]
  },
  {
   "cell_type": "markdown",
   "metadata": {},
   "source": [
    "# DATA UNDERSTANDING\n",
    "\n",
    "\n",
    "\n",
    "Company_Brand: Name of the start-up\n",
    "Founded: The year the start-up was founded.\n",
    "HeadQuaters: City where the start-up is located\n",
    "Sector: Domain industry of the start-up\n",
    "Overview: A brief description of the start-up business\n",
    "Founders: Names of the founders\n",
    "Investors: Investors or investments firms that funded the start-up\n",
    "Amount: The amount of funding received (in $USD)\n",
    "Stage: Stage of investment(e.g Pre-seed, Seed, Series A e.t.c)\n",
    "\n"
   ]
  },
  {
   "cell_type": "markdown",
   "metadata": {},
   "source": [
    "# DATA PREPARATION\n",
    "\n",
    "\n",
    "Before we clean and analyze the data we install all relevant libraries we will need and connect to all the data sources."
   ]
  },
  {
   "cell_type": "code",
   "execution_count": 1,
   "metadata": {},
   "outputs": [
    {
     "name": "stdout",
     "output_type": "stream",
     "text": [
      "Requirement already satisfied: pyodbc in c:\\users\\compufy\\anaconda3\\lib\\site-packages (5.0.1)\n",
      "Note: you may need to restart the kernel to use updated packages.\n",
      "Requirement already satisfied: python-dotenv in c:\\users\\compufy\\anaconda3\\lib\\site-packages (0.21.0)\n",
      "Note: you may need to restart the kernel to use updated packages.\n"
     ]
    }
   ],
   "source": [
    "%pip install pyodbc  \n",
    "%pip install python-dotenv"
   ]
  },
  {
   "cell_type": "code",
   "execution_count": 2,
   "metadata": {},
   "outputs": [],
   "source": [
    "import pyodbc #just installed with pip\n",
    "from dotenv import dotenv_values #import the dotenv_values function from the dotenv package\n",
    "import pandas as pd\n",
    "import numpy as np\n",
    "import matplotlib.pyplot as plt\n",
    "import seaborn as sns\n",
    "import plotly.express as px\n",
    "import plotly.graph_objs as go\n",
    "import re\n",
    "\n",
    "import warnings\n",
    "warnings.filterwarnings('ignore')\n"
   ]
  },
  {
   "cell_type": "code",
   "execution_count": 3,
   "metadata": {},
   "outputs": [],
   "source": [
    "# Load environment variables from .env file into a dictionary\n",
    "environment_variables=dotenv_values('.env')\n",
    "\n",
    "# Get the values for the credentials you set in the '.env' file\n",
    "database = environment_variables.get(\"database\")\n",
    "server = environment_variables.get(\"server\")\n",
    "username = environment_variables.get(\"username\")\n",
    "password = environment_variables.get(\"password\")\n",
    "\n",
    "connection_string=f\"DRIVER={{SQL Server}};SERVER={server};DATABASE={database};UID={username};PWD={password}\""
   ]
  },
  {
   "cell_type": "code",
   "execution_count": 4,
   "metadata": {},
   "outputs": [],
   "source": [
    "# Use the connect method of the pyodbc library and pass in the connection string.\n",
    "# This will connect to the server and might take a few seconds to be complete. \n",
    "# Check your internet connection if it takes more time than necessary\n",
    "\n",
    "connection=pyodbc.connect(connection_string)"
   ]
  },
  {
   "cell_type": "markdown",
   "metadata": {},
   "source": [
    "# Loading the all data sets (Start-up funding 2018-2021)"
   ]
  },
  {
   "cell_type": "code",
   "execution_count": 5,
   "metadata": {},
   "outputs": [],
   "source": [
    "#Loading table 1 which is the 2020 datasets\n",
    "# Now the sql query to get the data is what what you see below.\n",
    "# Note that you will not have permissions to insert delete or update this database table.\n",
    "\n",
    "\n",
    "query = \"SELECT * FROM dbo.LP1_startup_funding2020\"\n",
    "\n",
    "data = pd.read_sql(query, connection)"
   ]
  },
  {
   "cell_type": "code",
   "execution_count": 6,
   "metadata": {},
   "outputs": [],
   "source": [
    "#Loading table 2 which is the 2021 data sets \n",
    "\n",
    "query = \"SELECT * FROM dbo.LP1_startup_funding2021\"\n",
    "\n",
    "data2= pd.read_sql(query, connection)"
   ]
  },
  {
   "cell_type": "code",
   "execution_count": 7,
   "metadata": {},
   "outputs": [],
   "source": [
    "#Load the data from the source (2019)\n",
    "\n",
    "\n",
    "data3 = pd.read_csv(r'C:\\Users\\COMPUFY\\Downloads\\startup_funding2019.csv')"
   ]
  },
  {
   "cell_type": "code",
   "execution_count": 8,
   "metadata": {},
   "outputs": [],
   "source": [
    "#Load the data from the source (2018)\n",
    "\n",
    "\n",
    "data4= pd.read_csv(r'C:\\Users\\COMPUFY\\Downloads\\startup_funding2018.csv')"
   ]
  },
  {
   "cell_type": "markdown",
   "metadata": {},
   "source": [
    "# EXPLORING THE DATA ALL DATASETS\n",
    "\n",
    "A deep dive and observation to have an overview on the kind of dataset we are dealing with. (variables, data types, inconsistencies e.t.c)"
   ]
  },
  {
   "cell_type": "code",
   "execution_count": 9,
   "metadata": {},
   "outputs": [
    {
     "name": "stdout",
     "output_type": "stream",
     "text": [
      "<class 'pandas.core.frame.DataFrame'>\n",
      "RangeIndex: 1055 entries, 0 to 1054\n",
      "Data columns (total 10 columns):\n",
      " #   Column         Non-Null Count  Dtype  \n",
      "---  ------         --------------  -----  \n",
      " 0   Company_Brand  1055 non-null   object \n",
      " 1   Founded        842 non-null    float64\n",
      " 2   HeadQuarter    961 non-null    object \n",
      " 3   Sector         1042 non-null   object \n",
      " 4   What_it_does   1055 non-null   object \n",
      " 5   Founders       1043 non-null   object \n",
      " 6   Investor       1017 non-null   object \n",
      " 7   Amount         801 non-null    float64\n",
      " 8   Stage          591 non-null    object \n",
      " 9   column10       2 non-null      object \n",
      "dtypes: float64(2), object(8)\n",
      "memory usage: 82.6+ KB\n"
     ]
    }
   ],
   "source": [
    "# View the entire info of the dataset (2020)\n",
    "\n",
    "data.info()"
   ]
  },
  {
   "cell_type": "code",
   "execution_count": 10,
   "metadata": {},
   "outputs": [
    {
     "data": {
      "text/html": [
       "<div>\n",
       "<style scoped>\n",
       "    .dataframe tbody tr th:only-of-type {\n",
       "        vertical-align: middle;\n",
       "    }\n",
       "\n",
       "    .dataframe tbody tr th {\n",
       "        vertical-align: top;\n",
       "    }\n",
       "\n",
       "    .dataframe thead th {\n",
       "        text-align: right;\n",
       "    }\n",
       "</style>\n",
       "<table border=\"1\" class=\"dataframe\">\n",
       "  <thead>\n",
       "    <tr style=\"text-align: right;\">\n",
       "      <th></th>\n",
       "      <th>Company_Brand</th>\n",
       "      <th>Founded</th>\n",
       "      <th>HeadQuarter</th>\n",
       "      <th>Sector</th>\n",
       "      <th>What_it_does</th>\n",
       "      <th>Founders</th>\n",
       "      <th>Investor</th>\n",
       "      <th>Amount</th>\n",
       "      <th>Stage</th>\n",
       "      <th>column10</th>\n",
       "    </tr>\n",
       "  </thead>\n",
       "  <tbody>\n",
       "    <tr>\n",
       "      <th>0</th>\n",
       "      <td>Aqgromalin</td>\n",
       "      <td>2019.0</td>\n",
       "      <td>Chennai</td>\n",
       "      <td>AgriTech</td>\n",
       "      <td>Cultivating Ideas for Profit</td>\n",
       "      <td>Prasanna Manogaran, Bharani C L</td>\n",
       "      <td>Angel investors</td>\n",
       "      <td>200000.0</td>\n",
       "      <td>None</td>\n",
       "      <td>None</td>\n",
       "    </tr>\n",
       "    <tr>\n",
       "      <th>1</th>\n",
       "      <td>Krayonnz</td>\n",
       "      <td>2019.0</td>\n",
       "      <td>Bangalore</td>\n",
       "      <td>EdTech</td>\n",
       "      <td>An academy-guardian-scholar centric ecosystem ...</td>\n",
       "      <td>Saurabh Dixit, Gurudutt Upadhyay</td>\n",
       "      <td>GSF Accelerator</td>\n",
       "      <td>100000.0</td>\n",
       "      <td>Pre-seed</td>\n",
       "      <td>None</td>\n",
       "    </tr>\n",
       "    <tr>\n",
       "      <th>2</th>\n",
       "      <td>PadCare Labs</td>\n",
       "      <td>2018.0</td>\n",
       "      <td>Pune</td>\n",
       "      <td>Hygiene management</td>\n",
       "      <td>Converting bio-hazardous waste to harmless waste</td>\n",
       "      <td>Ajinkya Dhariya</td>\n",
       "      <td>Venture Center</td>\n",
       "      <td>NaN</td>\n",
       "      <td>Pre-seed</td>\n",
       "      <td>None</td>\n",
       "    </tr>\n",
       "    <tr>\n",
       "      <th>3</th>\n",
       "      <td>NCOME</td>\n",
       "      <td>2020.0</td>\n",
       "      <td>New Delhi</td>\n",
       "      <td>Escrow</td>\n",
       "      <td>Escrow-as-a-service platform</td>\n",
       "      <td>Ritesh Tiwari</td>\n",
       "      <td>Venture Catalysts, PointOne Capital</td>\n",
       "      <td>400000.0</td>\n",
       "      <td>None</td>\n",
       "      <td>None</td>\n",
       "    </tr>\n",
       "    <tr>\n",
       "      <th>4</th>\n",
       "      <td>Gramophone</td>\n",
       "      <td>2016.0</td>\n",
       "      <td>Indore</td>\n",
       "      <td>AgriTech</td>\n",
       "      <td>Gramophone is an AgTech platform enabling acce...</td>\n",
       "      <td>Ashish Rajan Singh, Harshit Gupta, Nishant Mah...</td>\n",
       "      <td>Siana Capital Management, Info Edge</td>\n",
       "      <td>340000.0</td>\n",
       "      <td>None</td>\n",
       "      <td>None</td>\n",
       "    </tr>\n",
       "  </tbody>\n",
       "</table>\n",
       "</div>"
      ],
      "text/plain": [
       "  Company_Brand  Founded HeadQuarter              Sector  \\\n",
       "0    Aqgromalin   2019.0     Chennai            AgriTech   \n",
       "1      Krayonnz   2019.0   Bangalore              EdTech   \n",
       "2  PadCare Labs   2018.0        Pune  Hygiene management   \n",
       "3         NCOME   2020.0   New Delhi              Escrow   \n",
       "4    Gramophone   2016.0      Indore            AgriTech   \n",
       "\n",
       "                                        What_it_does  \\\n",
       "0                       Cultivating Ideas for Profit   \n",
       "1  An academy-guardian-scholar centric ecosystem ...   \n",
       "2   Converting bio-hazardous waste to harmless waste   \n",
       "3                       Escrow-as-a-service platform   \n",
       "4  Gramophone is an AgTech platform enabling acce...   \n",
       "\n",
       "                                            Founders  \\\n",
       "0                    Prasanna Manogaran, Bharani C L   \n",
       "1                   Saurabh Dixit, Gurudutt Upadhyay   \n",
       "2                                    Ajinkya Dhariya   \n",
       "3                                      Ritesh Tiwari   \n",
       "4  Ashish Rajan Singh, Harshit Gupta, Nishant Mah...   \n",
       "\n",
       "                              Investor    Amount     Stage column10  \n",
       "0                      Angel investors  200000.0      None     None  \n",
       "1                      GSF Accelerator  100000.0  Pre-seed     None  \n",
       "2                       Venture Center       NaN  Pre-seed     None  \n",
       "3  Venture Catalysts, PointOne Capital  400000.0      None     None  \n",
       "4  Siana Capital Management, Info Edge  340000.0      None     None  "
      ]
     },
     "execution_count": 10,
     "metadata": {},
     "output_type": "execute_result"
    }
   ],
   "source": [
    "# View the upper part of the dataset (2020)\n",
    "\n",
    "data.head()"
   ]
  },
  {
   "cell_type": "code",
   "execution_count": 11,
   "metadata": {},
   "outputs": [
    {
     "data": {
      "text/html": [
       "<div>\n",
       "<style scoped>\n",
       "    .dataframe tbody tr th:only-of-type {\n",
       "        vertical-align: middle;\n",
       "    }\n",
       "\n",
       "    .dataframe tbody tr th {\n",
       "        vertical-align: top;\n",
       "    }\n",
       "\n",
       "    .dataframe thead th {\n",
       "        text-align: right;\n",
       "    }\n",
       "</style>\n",
       "<table border=\"1\" class=\"dataframe\">\n",
       "  <thead>\n",
       "    <tr style=\"text-align: right;\">\n",
       "      <th></th>\n",
       "      <th>Company_Brand</th>\n",
       "      <th>Founded</th>\n",
       "      <th>HeadQuarter</th>\n",
       "      <th>Sector</th>\n",
       "      <th>What_it_does</th>\n",
       "      <th>Founders</th>\n",
       "      <th>Investor</th>\n",
       "      <th>Amount</th>\n",
       "      <th>Stage</th>\n",
       "      <th>column10</th>\n",
       "    </tr>\n",
       "  </thead>\n",
       "  <tbody>\n",
       "    <tr>\n",
       "      <th>1050</th>\n",
       "      <td>Leverage Edu</td>\n",
       "      <td>NaN</td>\n",
       "      <td>Delhi</td>\n",
       "      <td>Edtech</td>\n",
       "      <td>AI enabled marketplace that provides career gu...</td>\n",
       "      <td>Akshay Chaturvedi</td>\n",
       "      <td>DSG Consumer Partners, Blume Ventures</td>\n",
       "      <td>1500000.0</td>\n",
       "      <td>None</td>\n",
       "      <td>None</td>\n",
       "    </tr>\n",
       "    <tr>\n",
       "      <th>1051</th>\n",
       "      <td>EpiFi</td>\n",
       "      <td>NaN</td>\n",
       "      <td>None</td>\n",
       "      <td>Fintech</td>\n",
       "      <td>It offers customers with a single interface fo...</td>\n",
       "      <td>Sujith Narayanan, Sumit Gwalani</td>\n",
       "      <td>Sequoia India, Ribbit Capital</td>\n",
       "      <td>13200000.0</td>\n",
       "      <td>Seed Round</td>\n",
       "      <td>None</td>\n",
       "    </tr>\n",
       "    <tr>\n",
       "      <th>1052</th>\n",
       "      <td>Purplle</td>\n",
       "      <td>2012.0</td>\n",
       "      <td>Mumbai</td>\n",
       "      <td>Cosmetics</td>\n",
       "      <td>Online makeup and beauty products retailer</td>\n",
       "      <td>Manish Taneja, Rahul Dash</td>\n",
       "      <td>Verlinvest</td>\n",
       "      <td>8000000.0</td>\n",
       "      <td>None</td>\n",
       "      <td>None</td>\n",
       "    </tr>\n",
       "    <tr>\n",
       "      <th>1053</th>\n",
       "      <td>Shuttl</td>\n",
       "      <td>2015.0</td>\n",
       "      <td>Delhi</td>\n",
       "      <td>Transport</td>\n",
       "      <td>App based bus aggregator serice</td>\n",
       "      <td>Amit Singh, Deepanshu Malviya</td>\n",
       "      <td>SIG Global India Fund LLP.</td>\n",
       "      <td>8043000.0</td>\n",
       "      <td>Series C</td>\n",
       "      <td>None</td>\n",
       "    </tr>\n",
       "    <tr>\n",
       "      <th>1054</th>\n",
       "      <td>Pando</td>\n",
       "      <td>2017.0</td>\n",
       "      <td>Chennai</td>\n",
       "      <td>Logitech</td>\n",
       "      <td>Networked logistics management software</td>\n",
       "      <td>Jayakrishnan, Abhijeet Manohar</td>\n",
       "      <td>Chiratae Ventures</td>\n",
       "      <td>9000000.0</td>\n",
       "      <td>Series A</td>\n",
       "      <td>None</td>\n",
       "    </tr>\n",
       "  </tbody>\n",
       "</table>\n",
       "</div>"
      ],
      "text/plain": [
       "     Company_Brand  Founded HeadQuarter     Sector  \\\n",
       "1050  Leverage Edu      NaN       Delhi     Edtech   \n",
       "1051         EpiFi      NaN        None    Fintech   \n",
       "1052       Purplle   2012.0      Mumbai  Cosmetics   \n",
       "1053        Shuttl   2015.0       Delhi  Transport   \n",
       "1054         Pando   2017.0     Chennai   Logitech   \n",
       "\n",
       "                                           What_it_does  \\\n",
       "1050  AI enabled marketplace that provides career gu...   \n",
       "1051  It offers customers with a single interface fo...   \n",
       "1052         Online makeup and beauty products retailer   \n",
       "1053                    App based bus aggregator serice   \n",
       "1054            Networked logistics management software   \n",
       "\n",
       "                             Founders                               Investor  \\\n",
       "1050                Akshay Chaturvedi  DSG Consumer Partners, Blume Ventures   \n",
       "1051  Sujith Narayanan, Sumit Gwalani          Sequoia India, Ribbit Capital   \n",
       "1052        Manish Taneja, Rahul Dash                             Verlinvest   \n",
       "1053    Amit Singh, Deepanshu Malviya             SIG Global India Fund LLP.   \n",
       "1054   Jayakrishnan, Abhijeet Manohar                      Chiratae Ventures   \n",
       "\n",
       "          Amount       Stage column10  \n",
       "1050   1500000.0        None     None  \n",
       "1051  13200000.0  Seed Round     None  \n",
       "1052   8000000.0        None     None  \n",
       "1053   8043000.0    Series C     None  \n",
       "1054   9000000.0    Series A     None  "
      ]
     },
     "execution_count": 11,
     "metadata": {},
     "output_type": "execute_result"
    }
   ],
   "source": [
    "# View the latter part of the dataset (2020)\n",
    "\n",
    "data.tail()"
   ]
  },
  {
   "cell_type": "code",
   "execution_count": 12,
   "metadata": {},
   "outputs": [
    {
     "data": {
      "text/plain": [
       "(1055, 10)"
      ]
     },
     "execution_count": 12,
     "metadata": {},
     "output_type": "execute_result"
    }
   ],
   "source": [
    "#Show the shape of the dataset (2020)\n",
    "\n",
    "data.shape"
   ]
  },
  {
   "cell_type": "code",
   "execution_count": 13,
   "metadata": {},
   "outputs": [
    {
     "data": {
      "text/html": [
       "<div>\n",
       "<style scoped>\n",
       "    .dataframe tbody tr th:only-of-type {\n",
       "        vertical-align: middle;\n",
       "    }\n",
       "\n",
       "    .dataframe tbody tr th {\n",
       "        vertical-align: top;\n",
       "    }\n",
       "\n",
       "    .dataframe thead th {\n",
       "        text-align: right;\n",
       "    }\n",
       "</style>\n",
       "<table border=\"1\" class=\"dataframe\">\n",
       "  <thead>\n",
       "    <tr style=\"text-align: right;\">\n",
       "      <th></th>\n",
       "      <th>count</th>\n",
       "      <th>mean</th>\n",
       "      <th>std</th>\n",
       "      <th>min</th>\n",
       "      <th>25%</th>\n",
       "      <th>50%</th>\n",
       "      <th>75%</th>\n",
       "      <th>max</th>\n",
       "    </tr>\n",
       "  </thead>\n",
       "  <tbody>\n",
       "    <tr>\n",
       "      <th>Founded</th>\n",
       "      <td>842.0</td>\n",
       "      <td>2.015363e+03</td>\n",
       "      <td>4.097909e+00</td>\n",
       "      <td>1973.0</td>\n",
       "      <td>2014.0</td>\n",
       "      <td>2016.0</td>\n",
       "      <td>2018.0</td>\n",
       "      <td>2.020000e+03</td>\n",
       "    </tr>\n",
       "    <tr>\n",
       "      <th>Amount</th>\n",
       "      <td>801.0</td>\n",
       "      <td>1.130430e+08</td>\n",
       "      <td>2.476635e+09</td>\n",
       "      <td>12700.0</td>\n",
       "      <td>1000000.0</td>\n",
       "      <td>3000000.0</td>\n",
       "      <td>11000000.0</td>\n",
       "      <td>7.000000e+10</td>\n",
       "    </tr>\n",
       "  </tbody>\n",
       "</table>\n",
       "</div>"
      ],
      "text/plain": [
       "         count          mean           std      min        25%        50%  \\\n",
       "Founded  842.0  2.015363e+03  4.097909e+00   1973.0     2014.0     2016.0   \n",
       "Amount   801.0  1.130430e+08  2.476635e+09  12700.0  1000000.0  3000000.0   \n",
       "\n",
       "                75%           max  \n",
       "Founded      2018.0  2.020000e+03  \n",
       "Amount   11000000.0  7.000000e+10  "
      ]
     },
     "execution_count": 13,
     "metadata": {},
     "output_type": "execute_result"
    }
   ],
   "source": [
    "#Show the Summary Statistics for 2020\n",
    "\n",
    "data.describe().T\n"
   ]
  },
  {
   "cell_type": "markdown",
   "metadata": {},
   "source": [
    "Dataset 2021"
   ]
  },
  {
   "cell_type": "code",
   "execution_count": 14,
   "metadata": {},
   "outputs": [
    {
     "name": "stdout",
     "output_type": "stream",
     "text": [
      "<class 'pandas.core.frame.DataFrame'>\n",
      "RangeIndex: 1209 entries, 0 to 1208\n",
      "Data columns (total 9 columns):\n",
      " #   Column         Non-Null Count  Dtype  \n",
      "---  ------         --------------  -----  \n",
      " 0   Company_Brand  1209 non-null   object \n",
      " 1   Founded        1208 non-null   float64\n",
      " 2   HeadQuarter    1208 non-null   object \n",
      " 3   Sector         1209 non-null   object \n",
      " 4   What_it_does   1209 non-null   object \n",
      " 5   Founders       1205 non-null   object \n",
      " 6   Investor       1147 non-null   object \n",
      " 7   Amount         1206 non-null   object \n",
      " 8   Stage          781 non-null    object \n",
      "dtypes: float64(1), object(8)\n",
      "memory usage: 85.1+ KB\n"
     ]
    }
   ],
   "source": [
    "# View the entire info of the dataset (2021)\n",
    "\n",
    "data2.info()"
   ]
  },
  {
   "cell_type": "code",
   "execution_count": 15,
   "metadata": {},
   "outputs": [
    {
     "data": {
      "text/html": [
       "<div>\n",
       "<style scoped>\n",
       "    .dataframe tbody tr th:only-of-type {\n",
       "        vertical-align: middle;\n",
       "    }\n",
       "\n",
       "    .dataframe tbody tr th {\n",
       "        vertical-align: top;\n",
       "    }\n",
       "\n",
       "    .dataframe thead th {\n",
       "        text-align: right;\n",
       "    }\n",
       "</style>\n",
       "<table border=\"1\" class=\"dataframe\">\n",
       "  <thead>\n",
       "    <tr style=\"text-align: right;\">\n",
       "      <th></th>\n",
       "      <th>Company_Brand</th>\n",
       "      <th>Founded</th>\n",
       "      <th>HeadQuarter</th>\n",
       "      <th>Sector</th>\n",
       "      <th>What_it_does</th>\n",
       "      <th>Founders</th>\n",
       "      <th>Investor</th>\n",
       "      <th>Amount</th>\n",
       "      <th>Stage</th>\n",
       "    </tr>\n",
       "  </thead>\n",
       "  <tbody>\n",
       "    <tr>\n",
       "      <th>0</th>\n",
       "      <td>Unbox Robotics</td>\n",
       "      <td>2019.0</td>\n",
       "      <td>Bangalore</td>\n",
       "      <td>AI startup</td>\n",
       "      <td>Unbox Robotics builds on-demand AI-driven ware...</td>\n",
       "      <td>Pramod Ghadge, Shahid Memon</td>\n",
       "      <td>BEENEXT, Entrepreneur First</td>\n",
       "      <td>$1,200,000</td>\n",
       "      <td>Pre-series A</td>\n",
       "    </tr>\n",
       "    <tr>\n",
       "      <th>1</th>\n",
       "      <td>upGrad</td>\n",
       "      <td>2015.0</td>\n",
       "      <td>Mumbai</td>\n",
       "      <td>EdTech</td>\n",
       "      <td>UpGrad is an online higher education platform.</td>\n",
       "      <td>Mayank Kumar, Phalgun Kompalli, Ravijot Chugh,...</td>\n",
       "      <td>Unilazer Ventures, IIFL Asset Management</td>\n",
       "      <td>$120,000,000</td>\n",
       "      <td>None</td>\n",
       "    </tr>\n",
       "    <tr>\n",
       "      <th>2</th>\n",
       "      <td>Lead School</td>\n",
       "      <td>2012.0</td>\n",
       "      <td>Mumbai</td>\n",
       "      <td>EdTech</td>\n",
       "      <td>LEAD School offers technology based school tra...</td>\n",
       "      <td>Smita Deorah, Sumeet Mehta</td>\n",
       "      <td>GSV Ventures, Westbridge Capital</td>\n",
       "      <td>$30,000,000</td>\n",
       "      <td>Series D</td>\n",
       "    </tr>\n",
       "    <tr>\n",
       "      <th>3</th>\n",
       "      <td>Bizongo</td>\n",
       "      <td>2015.0</td>\n",
       "      <td>Mumbai</td>\n",
       "      <td>B2B E-commerce</td>\n",
       "      <td>Bizongo is a business-to-business online marke...</td>\n",
       "      <td>Aniket Deb, Ankit Tomar, Sachin Agrawal</td>\n",
       "      <td>CDC Group, IDG Capital</td>\n",
       "      <td>$51,000,000</td>\n",
       "      <td>Series C</td>\n",
       "    </tr>\n",
       "    <tr>\n",
       "      <th>4</th>\n",
       "      <td>FypMoney</td>\n",
       "      <td>2021.0</td>\n",
       "      <td>Gurugram</td>\n",
       "      <td>FinTech</td>\n",
       "      <td>FypMoney is Digital NEO Bank for Teenagers, em...</td>\n",
       "      <td>Kapil Banwari</td>\n",
       "      <td>Liberatha Kallat, Mukesh Yadav, Dinesh Nagpal</td>\n",
       "      <td>$2,000,000</td>\n",
       "      <td>Seed</td>\n",
       "    </tr>\n",
       "  </tbody>\n",
       "</table>\n",
       "</div>"
      ],
      "text/plain": [
       "    Company_Brand  Founded HeadQuarter          Sector  \\\n",
       "0  Unbox Robotics   2019.0   Bangalore      AI startup   \n",
       "1          upGrad   2015.0      Mumbai          EdTech   \n",
       "2     Lead School   2012.0      Mumbai          EdTech   \n",
       "3         Bizongo   2015.0      Mumbai  B2B E-commerce   \n",
       "4        FypMoney   2021.0    Gurugram         FinTech   \n",
       "\n",
       "                                        What_it_does  \\\n",
       "0  Unbox Robotics builds on-demand AI-driven ware...   \n",
       "1     UpGrad is an online higher education platform.   \n",
       "2  LEAD School offers technology based school tra...   \n",
       "3  Bizongo is a business-to-business online marke...   \n",
       "4  FypMoney is Digital NEO Bank for Teenagers, em...   \n",
       "\n",
       "                                            Founders  \\\n",
       "0                        Pramod Ghadge, Shahid Memon   \n",
       "1  Mayank Kumar, Phalgun Kompalli, Ravijot Chugh,...   \n",
       "2                         Smita Deorah, Sumeet Mehta   \n",
       "3            Aniket Deb, Ankit Tomar, Sachin Agrawal   \n",
       "4                                      Kapil Banwari   \n",
       "\n",
       "                                        Investor        Amount         Stage  \n",
       "0                    BEENEXT, Entrepreneur First    $1,200,000  Pre-series A  \n",
       "1       Unilazer Ventures, IIFL Asset Management  $120,000,000          None  \n",
       "2               GSV Ventures, Westbridge Capital   $30,000,000      Series D  \n",
       "3                         CDC Group, IDG Capital   $51,000,000      Series C  \n",
       "4  Liberatha Kallat, Mukesh Yadav, Dinesh Nagpal    $2,000,000          Seed  "
      ]
     },
     "execution_count": 15,
     "metadata": {},
     "output_type": "execute_result"
    }
   ],
   "source": [
    "# View the upper part of the dataset (2021)\n",
    "\n",
    "data2.head()"
   ]
  },
  {
   "cell_type": "code",
   "execution_count": 16,
   "metadata": {},
   "outputs": [
    {
     "data": {
      "text/html": [
       "<div>\n",
       "<style scoped>\n",
       "    .dataframe tbody tr th:only-of-type {\n",
       "        vertical-align: middle;\n",
       "    }\n",
       "\n",
       "    .dataframe tbody tr th {\n",
       "        vertical-align: top;\n",
       "    }\n",
       "\n",
       "    .dataframe thead th {\n",
       "        text-align: right;\n",
       "    }\n",
       "</style>\n",
       "<table border=\"1\" class=\"dataframe\">\n",
       "  <thead>\n",
       "    <tr style=\"text-align: right;\">\n",
       "      <th></th>\n",
       "      <th>Company_Brand</th>\n",
       "      <th>Founded</th>\n",
       "      <th>HeadQuarter</th>\n",
       "      <th>Sector</th>\n",
       "      <th>What_it_does</th>\n",
       "      <th>Founders</th>\n",
       "      <th>Investor</th>\n",
       "      <th>Amount</th>\n",
       "      <th>Stage</th>\n",
       "    </tr>\n",
       "  </thead>\n",
       "  <tbody>\n",
       "    <tr>\n",
       "      <th>1204</th>\n",
       "      <td>Gigforce</td>\n",
       "      <td>2019.0</td>\n",
       "      <td>Gurugram</td>\n",
       "      <td>Staffing &amp; Recruiting</td>\n",
       "      <td>A gig/on-demand staffing company.</td>\n",
       "      <td>Chirag Mittal, Anirudh Syal</td>\n",
       "      <td>Endiya Partners</td>\n",
       "      <td>$3000000</td>\n",
       "      <td>Pre-series A</td>\n",
       "    </tr>\n",
       "    <tr>\n",
       "      <th>1205</th>\n",
       "      <td>Vahdam</td>\n",
       "      <td>2015.0</td>\n",
       "      <td>New Delhi</td>\n",
       "      <td>Food &amp; Beverages</td>\n",
       "      <td>VAHDAM is among the world’s first vertically i...</td>\n",
       "      <td>Bala Sarda</td>\n",
       "      <td>IIFL AMC</td>\n",
       "      <td>$20000000</td>\n",
       "      <td>Series D</td>\n",
       "    </tr>\n",
       "    <tr>\n",
       "      <th>1206</th>\n",
       "      <td>Leap Finance</td>\n",
       "      <td>2019.0</td>\n",
       "      <td>Bangalore</td>\n",
       "      <td>Financial Services</td>\n",
       "      <td>International education loans for high potenti...</td>\n",
       "      <td>Arnav Kumar, Vaibhav Singh</td>\n",
       "      <td>Owl Ventures</td>\n",
       "      <td>$55000000</td>\n",
       "      <td>Series C</td>\n",
       "    </tr>\n",
       "    <tr>\n",
       "      <th>1207</th>\n",
       "      <td>CollegeDekho</td>\n",
       "      <td>2015.0</td>\n",
       "      <td>Gurugram</td>\n",
       "      <td>EdTech</td>\n",
       "      <td>Collegedekho.com is Student’s Partner, Friend ...</td>\n",
       "      <td>Ruchir Arora</td>\n",
       "      <td>Winter Capital, ETS, Man Capital</td>\n",
       "      <td>$26000000</td>\n",
       "      <td>Series B</td>\n",
       "    </tr>\n",
       "    <tr>\n",
       "      <th>1208</th>\n",
       "      <td>WeRize</td>\n",
       "      <td>2019.0</td>\n",
       "      <td>Bangalore</td>\n",
       "      <td>Financial Services</td>\n",
       "      <td>India’s first socially distributed full stack ...</td>\n",
       "      <td>Vishal Chopra, Himanshu Gupta</td>\n",
       "      <td>3one4 Capital, Kalaari Capital</td>\n",
       "      <td>$8000000</td>\n",
       "      <td>Series A</td>\n",
       "    </tr>\n",
       "  </tbody>\n",
       "</table>\n",
       "</div>"
      ],
      "text/plain": [
       "     Company_Brand  Founded HeadQuarter                 Sector  \\\n",
       "1204      Gigforce   2019.0    Gurugram  Staffing & Recruiting   \n",
       "1205        Vahdam   2015.0   New Delhi       Food & Beverages   \n",
       "1206  Leap Finance   2019.0   Bangalore     Financial Services   \n",
       "1207  CollegeDekho   2015.0    Gurugram                 EdTech   \n",
       "1208        WeRize   2019.0   Bangalore     Financial Services   \n",
       "\n",
       "                                           What_it_does  \\\n",
       "1204                  A gig/on-demand staffing company.   \n",
       "1205  VAHDAM is among the world’s first vertically i...   \n",
       "1206  International education loans for high potenti...   \n",
       "1207  Collegedekho.com is Student’s Partner, Friend ...   \n",
       "1208  India’s first socially distributed full stack ...   \n",
       "\n",
       "                           Founders                          Investor  \\\n",
       "1204    Chirag Mittal, Anirudh Syal                   Endiya Partners   \n",
       "1205                     Bala Sarda                          IIFL AMC   \n",
       "1206     Arnav Kumar, Vaibhav Singh                      Owl Ventures   \n",
       "1207                   Ruchir Arora  Winter Capital, ETS, Man Capital   \n",
       "1208  Vishal Chopra, Himanshu Gupta    3one4 Capital, Kalaari Capital   \n",
       "\n",
       "         Amount         Stage  \n",
       "1204   $3000000  Pre-series A  \n",
       "1205  $20000000      Series D  \n",
       "1206  $55000000      Series C  \n",
       "1207  $26000000      Series B  \n",
       "1208   $8000000      Series A  "
      ]
     },
     "execution_count": 16,
     "metadata": {},
     "output_type": "execute_result"
    }
   ],
   "source": [
    "# View the latter part of the dataset (2021)\n",
    "\n",
    "data2.tail()"
   ]
  },
  {
   "cell_type": "code",
   "execution_count": 17,
   "metadata": {},
   "outputs": [
    {
     "data": {
      "text/plain": [
       "(1209, 9)"
      ]
     },
     "execution_count": 17,
     "metadata": {},
     "output_type": "execute_result"
    }
   ],
   "source": [
    "#Show the shape of the dataset (2021)\n",
    "\n",
    "data2.shape"
   ]
  },
  {
   "cell_type": "code",
   "execution_count": 18,
   "metadata": {},
   "outputs": [
    {
     "data": {
      "text/html": [
       "<div>\n",
       "<style scoped>\n",
       "    .dataframe tbody tr th:only-of-type {\n",
       "        vertical-align: middle;\n",
       "    }\n",
       "\n",
       "    .dataframe tbody tr th {\n",
       "        vertical-align: top;\n",
       "    }\n",
       "\n",
       "    .dataframe thead th {\n",
       "        text-align: right;\n",
       "    }\n",
       "</style>\n",
       "<table border=\"1\" class=\"dataframe\">\n",
       "  <thead>\n",
       "    <tr style=\"text-align: right;\">\n",
       "      <th></th>\n",
       "      <th>count</th>\n",
       "      <th>mean</th>\n",
       "      <th>std</th>\n",
       "      <th>min</th>\n",
       "      <th>25%</th>\n",
       "      <th>50%</th>\n",
       "      <th>75%</th>\n",
       "      <th>max</th>\n",
       "    </tr>\n",
       "  </thead>\n",
       "  <tbody>\n",
       "    <tr>\n",
       "      <th>Founded</th>\n",
       "      <td>1208.0</td>\n",
       "      <td>2016.655629</td>\n",
       "      <td>4.517364</td>\n",
       "      <td>1963.0</td>\n",
       "      <td>2015.0</td>\n",
       "      <td>2018.0</td>\n",
       "      <td>2020.0</td>\n",
       "      <td>2021.0</td>\n",
       "    </tr>\n",
       "  </tbody>\n",
       "</table>\n",
       "</div>"
      ],
      "text/plain": [
       "          count         mean       std     min     25%     50%     75%     max\n",
       "Founded  1208.0  2016.655629  4.517364  1963.0  2015.0  2018.0  2020.0  2021.0"
      ]
     },
     "execution_count": 18,
     "metadata": {},
     "output_type": "execute_result"
    }
   ],
   "source": [
    "#Show the Summary Statistics for 2021\n",
    "\n",
    "data2.describe().T"
   ]
  },
  {
   "cell_type": "markdown",
   "metadata": {},
   "source": [
    "Dataset 2019"
   ]
  },
  {
   "cell_type": "code",
   "execution_count": 19,
   "metadata": {},
   "outputs": [
    {
     "name": "stdout",
     "output_type": "stream",
     "text": [
      "<class 'pandas.core.frame.DataFrame'>\n",
      "RangeIndex: 89 entries, 0 to 88\n",
      "Data columns (total 9 columns):\n",
      " #   Column         Non-Null Count  Dtype  \n",
      "---  ------         --------------  -----  \n",
      " 0   Company/Brand  89 non-null     object \n",
      " 1   Founded        60 non-null     float64\n",
      " 2   HeadQuarter    70 non-null     object \n",
      " 3   Sector         84 non-null     object \n",
      " 4   What it does   89 non-null     object \n",
      " 5   Founders       86 non-null     object \n",
      " 6   Investor       89 non-null     object \n",
      " 7   Amount($)      89 non-null     object \n",
      " 8   Stage          43 non-null     object \n",
      "dtypes: float64(1), object(8)\n",
      "memory usage: 6.4+ KB\n"
     ]
    }
   ],
   "source": [
    "# View the entire info of the dataset (2021)\n",
    "\n",
    "data3.info()"
   ]
  },
  {
   "cell_type": "code",
   "execution_count": 20,
   "metadata": {},
   "outputs": [
    {
     "data": {
      "text/html": [
       "<div>\n",
       "<style scoped>\n",
       "    .dataframe tbody tr th:only-of-type {\n",
       "        vertical-align: middle;\n",
       "    }\n",
       "\n",
       "    .dataframe tbody tr th {\n",
       "        vertical-align: top;\n",
       "    }\n",
       "\n",
       "    .dataframe thead th {\n",
       "        text-align: right;\n",
       "    }\n",
       "</style>\n",
       "<table border=\"1\" class=\"dataframe\">\n",
       "  <thead>\n",
       "    <tr style=\"text-align: right;\">\n",
       "      <th></th>\n",
       "      <th>Company/Brand</th>\n",
       "      <th>Founded</th>\n",
       "      <th>HeadQuarter</th>\n",
       "      <th>Sector</th>\n",
       "      <th>What it does</th>\n",
       "      <th>Founders</th>\n",
       "      <th>Investor</th>\n",
       "      <th>Amount($)</th>\n",
       "      <th>Stage</th>\n",
       "    </tr>\n",
       "  </thead>\n",
       "  <tbody>\n",
       "    <tr>\n",
       "      <th>0</th>\n",
       "      <td>Bombay Shaving</td>\n",
       "      <td>NaN</td>\n",
       "      <td>NaN</td>\n",
       "      <td>Ecommerce</td>\n",
       "      <td>Provides a range of male grooming products</td>\n",
       "      <td>Shantanu Deshpande</td>\n",
       "      <td>Sixth Sense Ventures</td>\n",
       "      <td>$6,300,000</td>\n",
       "      <td>NaN</td>\n",
       "    </tr>\n",
       "    <tr>\n",
       "      <th>1</th>\n",
       "      <td>Ruangguru</td>\n",
       "      <td>2014.0</td>\n",
       "      <td>Mumbai</td>\n",
       "      <td>Edtech</td>\n",
       "      <td>A learning platform that provides topic-based ...</td>\n",
       "      <td>Adamas Belva Syah Devara, Iman Usman.</td>\n",
       "      <td>General Atlantic</td>\n",
       "      <td>$150,000,000</td>\n",
       "      <td>Series C</td>\n",
       "    </tr>\n",
       "    <tr>\n",
       "      <th>2</th>\n",
       "      <td>Eduisfun</td>\n",
       "      <td>NaN</td>\n",
       "      <td>Mumbai</td>\n",
       "      <td>Edtech</td>\n",
       "      <td>It aims to make learning fun via games.</td>\n",
       "      <td>Jatin Solanki</td>\n",
       "      <td>Deepak Parekh, Amitabh Bachchan, Piyush Pandey</td>\n",
       "      <td>$28,000,000</td>\n",
       "      <td>Fresh funding</td>\n",
       "    </tr>\n",
       "    <tr>\n",
       "      <th>3</th>\n",
       "      <td>HomeLane</td>\n",
       "      <td>2014.0</td>\n",
       "      <td>Chennai</td>\n",
       "      <td>Interior design</td>\n",
       "      <td>Provides interior designing solutions</td>\n",
       "      <td>Srikanth Iyer, Rama Harinath</td>\n",
       "      <td>Evolvence India Fund (EIF), Pidilite Group, FJ...</td>\n",
       "      <td>$30,000,000</td>\n",
       "      <td>Series D</td>\n",
       "    </tr>\n",
       "    <tr>\n",
       "      <th>4</th>\n",
       "      <td>Nu Genes</td>\n",
       "      <td>2004.0</td>\n",
       "      <td>Telangana</td>\n",
       "      <td>AgriTech</td>\n",
       "      <td>It is a seed company engaged in production, pr...</td>\n",
       "      <td>Narayana Reddy Punyala</td>\n",
       "      <td>Innovation in Food and Agriculture (IFA)</td>\n",
       "      <td>$6,000,000</td>\n",
       "      <td>NaN</td>\n",
       "    </tr>\n",
       "  </tbody>\n",
       "</table>\n",
       "</div>"
      ],
      "text/plain": [
       "    Company/Brand  Founded HeadQuarter           Sector  \\\n",
       "0  Bombay Shaving      NaN         NaN        Ecommerce   \n",
       "1       Ruangguru   2014.0      Mumbai           Edtech   \n",
       "2        Eduisfun      NaN      Mumbai           Edtech   \n",
       "3        HomeLane   2014.0     Chennai  Interior design   \n",
       "4        Nu Genes   2004.0   Telangana         AgriTech   \n",
       "\n",
       "                                        What it does  \\\n",
       "0         Provides a range of male grooming products   \n",
       "1  A learning platform that provides topic-based ...   \n",
       "2            It aims to make learning fun via games.   \n",
       "3              Provides interior designing solutions   \n",
       "4  It is a seed company engaged in production, pr...   \n",
       "\n",
       "                                Founders  \\\n",
       "0                     Shantanu Deshpande   \n",
       "1  Adamas Belva Syah Devara, Iman Usman.   \n",
       "2                          Jatin Solanki   \n",
       "3           Srikanth Iyer, Rama Harinath   \n",
       "4                 Narayana Reddy Punyala   \n",
       "\n",
       "                                            Investor     Amount($)  \\\n",
       "0                               Sixth Sense Ventures    $6,300,000   \n",
       "1                                   General Atlantic  $150,000,000   \n",
       "2     Deepak Parekh, Amitabh Bachchan, Piyush Pandey   $28,000,000   \n",
       "3  Evolvence India Fund (EIF), Pidilite Group, FJ...   $30,000,000   \n",
       "4           Innovation in Food and Agriculture (IFA)    $6,000,000   \n",
       "\n",
       "           Stage  \n",
       "0            NaN  \n",
       "1       Series C  \n",
       "2  Fresh funding  \n",
       "3       Series D  \n",
       "4            NaN  "
      ]
     },
     "execution_count": 20,
     "metadata": {},
     "output_type": "execute_result"
    }
   ],
   "source": [
    "# View the upper part of the dataset (2019)\n",
    "\n",
    "data3.head()"
   ]
  },
  {
   "cell_type": "code",
   "execution_count": 21,
   "metadata": {},
   "outputs": [
    {
     "data": {
      "text/html": [
       "<div>\n",
       "<style scoped>\n",
       "    .dataframe tbody tr th:only-of-type {\n",
       "        vertical-align: middle;\n",
       "    }\n",
       "\n",
       "    .dataframe tbody tr th {\n",
       "        vertical-align: top;\n",
       "    }\n",
       "\n",
       "    .dataframe thead th {\n",
       "        text-align: right;\n",
       "    }\n",
       "</style>\n",
       "<table border=\"1\" class=\"dataframe\">\n",
       "  <thead>\n",
       "    <tr style=\"text-align: right;\">\n",
       "      <th></th>\n",
       "      <th>Company/Brand</th>\n",
       "      <th>Founded</th>\n",
       "      <th>HeadQuarter</th>\n",
       "      <th>Sector</th>\n",
       "      <th>What it does</th>\n",
       "      <th>Founders</th>\n",
       "      <th>Investor</th>\n",
       "      <th>Amount($)</th>\n",
       "      <th>Stage</th>\n",
       "    </tr>\n",
       "  </thead>\n",
       "  <tbody>\n",
       "    <tr>\n",
       "      <th>84</th>\n",
       "      <td>Infra.Market</td>\n",
       "      <td>NaN</td>\n",
       "      <td>Mumbai</td>\n",
       "      <td>Infratech</td>\n",
       "      <td>It connects client requirements to their suppl...</td>\n",
       "      <td>Aaditya Sharda, Souvik Sengupta</td>\n",
       "      <td>Tiger Global, Nexus Venture Partners, Accel Pa...</td>\n",
       "      <td>$20,000,000</td>\n",
       "      <td>Series A</td>\n",
       "    </tr>\n",
       "    <tr>\n",
       "      <th>85</th>\n",
       "      <td>Oyo</td>\n",
       "      <td>2013.0</td>\n",
       "      <td>Gurugram</td>\n",
       "      <td>Hospitality</td>\n",
       "      <td>Provides rooms for comfortable stay</td>\n",
       "      <td>Ritesh Agarwal</td>\n",
       "      <td>MyPreferred Transformation, Avendus Finance, S...</td>\n",
       "      <td>$693,000,000</td>\n",
       "      <td>NaN</td>\n",
       "    </tr>\n",
       "    <tr>\n",
       "      <th>86</th>\n",
       "      <td>GoMechanic</td>\n",
       "      <td>2016.0</td>\n",
       "      <td>Delhi</td>\n",
       "      <td>Automobile &amp; Technology</td>\n",
       "      <td>Find automobile repair and maintenance service...</td>\n",
       "      <td>Amit Bhasin, Kushal Karwa, Nitin Rana, Rishabh...</td>\n",
       "      <td>Sequoia Capital</td>\n",
       "      <td>$5,000,000</td>\n",
       "      <td>Series B</td>\n",
       "    </tr>\n",
       "    <tr>\n",
       "      <th>87</th>\n",
       "      <td>Spinny</td>\n",
       "      <td>2015.0</td>\n",
       "      <td>Delhi</td>\n",
       "      <td>Automobile</td>\n",
       "      <td>Online car retailer</td>\n",
       "      <td>Niraj Singh, Ramanshu Mahaur, Ganesh Pawar, Mo...</td>\n",
       "      <td>Norwest Venture Partners, General Catalyst, Fu...</td>\n",
       "      <td>$50,000,000</td>\n",
       "      <td>NaN</td>\n",
       "    </tr>\n",
       "    <tr>\n",
       "      <th>88</th>\n",
       "      <td>Ess Kay Fincorp</td>\n",
       "      <td>NaN</td>\n",
       "      <td>Rajasthan</td>\n",
       "      <td>Banking</td>\n",
       "      <td>Organised Non-Banking Finance Company</td>\n",
       "      <td>Rajendra Setia</td>\n",
       "      <td>TPG, Norwest Venture Partners, Evolvence India</td>\n",
       "      <td>$33,000,000</td>\n",
       "      <td>NaN</td>\n",
       "    </tr>\n",
       "  </tbody>\n",
       "</table>\n",
       "</div>"
      ],
      "text/plain": [
       "      Company/Brand  Founded HeadQuarter                   Sector  \\\n",
       "84     Infra.Market      NaN      Mumbai                Infratech   \n",
       "85              Oyo   2013.0    Gurugram              Hospitality   \n",
       "86       GoMechanic   2016.0       Delhi  Automobile & Technology   \n",
       "87           Spinny   2015.0       Delhi               Automobile   \n",
       "88  Ess Kay Fincorp      NaN   Rajasthan                  Banking   \n",
       "\n",
       "                                         What it does  \\\n",
       "84  It connects client requirements to their suppl...   \n",
       "85                Provides rooms for comfortable stay   \n",
       "86  Find automobile repair and maintenance service...   \n",
       "87                                Online car retailer   \n",
       "88              Organised Non-Banking Finance Company   \n",
       "\n",
       "                                             Founders  \\\n",
       "84                    Aaditya Sharda, Souvik Sengupta   \n",
       "85                                     Ritesh Agarwal   \n",
       "86  Amit Bhasin, Kushal Karwa, Nitin Rana, Rishabh...   \n",
       "87  Niraj Singh, Ramanshu Mahaur, Ganesh Pawar, Mo...   \n",
       "88                                     Rajendra Setia   \n",
       "\n",
       "                                             Investor     Amount($)     Stage  \n",
       "84  Tiger Global, Nexus Venture Partners, Accel Pa...   $20,000,000  Series A  \n",
       "85  MyPreferred Transformation, Avendus Finance, S...  $693,000,000       NaN  \n",
       "86                                    Sequoia Capital    $5,000,000  Series B  \n",
       "87  Norwest Venture Partners, General Catalyst, Fu...   $50,000,000       NaN  \n",
       "88     TPG, Norwest Venture Partners, Evolvence India   $33,000,000       NaN  "
      ]
     },
     "execution_count": 21,
     "metadata": {},
     "output_type": "execute_result"
    }
   ],
   "source": [
    "# View the lower part of the dataset (2019)\n",
    "\n",
    "data3.tail()"
   ]
  },
  {
   "cell_type": "code",
   "execution_count": 22,
   "metadata": {},
   "outputs": [
    {
     "data": {
      "text/plain": [
       "(89, 9)"
      ]
     },
     "execution_count": 22,
     "metadata": {},
     "output_type": "execute_result"
    }
   ],
   "source": [
    "#Show the shape of the dataset (2019)\n",
    "\n",
    "data3.shape"
   ]
  },
  {
   "cell_type": "code",
   "execution_count": 23,
   "metadata": {},
   "outputs": [
    {
     "data": {
      "text/html": [
       "<div>\n",
       "<style scoped>\n",
       "    .dataframe tbody tr th:only-of-type {\n",
       "        vertical-align: middle;\n",
       "    }\n",
       "\n",
       "    .dataframe tbody tr th {\n",
       "        vertical-align: top;\n",
       "    }\n",
       "\n",
       "    .dataframe thead th {\n",
       "        text-align: right;\n",
       "    }\n",
       "</style>\n",
       "<table border=\"1\" class=\"dataframe\">\n",
       "  <thead>\n",
       "    <tr style=\"text-align: right;\">\n",
       "      <th></th>\n",
       "      <th>count</th>\n",
       "      <th>mean</th>\n",
       "      <th>std</th>\n",
       "      <th>min</th>\n",
       "      <th>25%</th>\n",
       "      <th>50%</th>\n",
       "      <th>75%</th>\n",
       "      <th>max</th>\n",
       "    </tr>\n",
       "  </thead>\n",
       "  <tbody>\n",
       "    <tr>\n",
       "      <th>Founded</th>\n",
       "      <td>60.0</td>\n",
       "      <td>2014.533333</td>\n",
       "      <td>2.937003</td>\n",
       "      <td>2004.0</td>\n",
       "      <td>2013.0</td>\n",
       "      <td>2015.0</td>\n",
       "      <td>2016.25</td>\n",
       "      <td>2019.0</td>\n",
       "    </tr>\n",
       "  </tbody>\n",
       "</table>\n",
       "</div>"
      ],
      "text/plain": [
       "         count         mean       std     min     25%     50%      75%     max\n",
       "Founded   60.0  2014.533333  2.937003  2004.0  2013.0  2015.0  2016.25  2019.0"
      ]
     },
     "execution_count": 23,
     "metadata": {},
     "output_type": "execute_result"
    }
   ],
   "source": [
    "#Show the Summary Statistics for 2019\n",
    "\n",
    "data3.describe().T"
   ]
  },
  {
   "cell_type": "markdown",
   "metadata": {},
   "source": [
    "Dataset 2018"
   ]
  },
  {
   "cell_type": "code",
   "execution_count": 24,
   "metadata": {},
   "outputs": [
    {
     "name": "stdout",
     "output_type": "stream",
     "text": [
      "<class 'pandas.core.frame.DataFrame'>\n",
      "RangeIndex: 526 entries, 0 to 525\n",
      "Data columns (total 6 columns):\n",
      " #   Column         Non-Null Count  Dtype \n",
      "---  ------         --------------  ----- \n",
      " 0   Company Name   526 non-null    object\n",
      " 1   Industry       526 non-null    object\n",
      " 2   Round/Series   526 non-null    object\n",
      " 3   Amount         526 non-null    object\n",
      " 4   Location       526 non-null    object\n",
      " 5   About Company  526 non-null    object\n",
      "dtypes: object(6)\n",
      "memory usage: 24.8+ KB\n"
     ]
    }
   ],
   "source": [
    "# View the entire info of the dataset (2018)\n",
    "\n",
    "data4.info()"
   ]
  },
  {
   "cell_type": "code",
   "execution_count": 25,
   "metadata": {},
   "outputs": [
    {
     "data": {
      "text/html": [
       "<div>\n",
       "<style scoped>\n",
       "    .dataframe tbody tr th:only-of-type {\n",
       "        vertical-align: middle;\n",
       "    }\n",
       "\n",
       "    .dataframe tbody tr th {\n",
       "        vertical-align: top;\n",
       "    }\n",
       "\n",
       "    .dataframe thead th {\n",
       "        text-align: right;\n",
       "    }\n",
       "</style>\n",
       "<table border=\"1\" class=\"dataframe\">\n",
       "  <thead>\n",
       "    <tr style=\"text-align: right;\">\n",
       "      <th></th>\n",
       "      <th>Company Name</th>\n",
       "      <th>Industry</th>\n",
       "      <th>Round/Series</th>\n",
       "      <th>Amount</th>\n",
       "      <th>Location</th>\n",
       "      <th>About Company</th>\n",
       "    </tr>\n",
       "  </thead>\n",
       "  <tbody>\n",
       "    <tr>\n",
       "      <th>0</th>\n",
       "      <td>TheCollegeFever</td>\n",
       "      <td>Brand Marketing, Event Promotion, Marketing, S...</td>\n",
       "      <td>Seed</td>\n",
       "      <td>250000</td>\n",
       "      <td>Bangalore, Karnataka, India</td>\n",
       "      <td>TheCollegeFever is a hub for fun, fiesta and f...</td>\n",
       "    </tr>\n",
       "    <tr>\n",
       "      <th>1</th>\n",
       "      <td>Happy Cow Dairy</td>\n",
       "      <td>Agriculture, Farming</td>\n",
       "      <td>Seed</td>\n",
       "      <td>₹40,000,000</td>\n",
       "      <td>Mumbai, Maharashtra, India</td>\n",
       "      <td>A startup which aggregates milk from dairy far...</td>\n",
       "    </tr>\n",
       "    <tr>\n",
       "      <th>2</th>\n",
       "      <td>MyLoanCare</td>\n",
       "      <td>Credit, Financial Services, Lending, Marketplace</td>\n",
       "      <td>Series A</td>\n",
       "      <td>₹65,000,000</td>\n",
       "      <td>Gurgaon, Haryana, India</td>\n",
       "      <td>Leading Online Loans Marketplace in India</td>\n",
       "    </tr>\n",
       "    <tr>\n",
       "      <th>3</th>\n",
       "      <td>PayMe India</td>\n",
       "      <td>Financial Services, FinTech</td>\n",
       "      <td>Angel</td>\n",
       "      <td>2000000</td>\n",
       "      <td>Noida, Uttar Pradesh, India</td>\n",
       "      <td>PayMe India is an innovative FinTech organizat...</td>\n",
       "    </tr>\n",
       "    <tr>\n",
       "      <th>4</th>\n",
       "      <td>Eunimart</td>\n",
       "      <td>E-Commerce Platforms, Retail, SaaS</td>\n",
       "      <td>Seed</td>\n",
       "      <td>—</td>\n",
       "      <td>Hyderabad, Andhra Pradesh, India</td>\n",
       "      <td>Eunimart is a one stop solution for merchants ...</td>\n",
       "    </tr>\n",
       "  </tbody>\n",
       "</table>\n",
       "</div>"
      ],
      "text/plain": [
       "      Company Name                                           Industry  \\\n",
       "0  TheCollegeFever  Brand Marketing, Event Promotion, Marketing, S...   \n",
       "1  Happy Cow Dairy                               Agriculture, Farming   \n",
       "2       MyLoanCare   Credit, Financial Services, Lending, Marketplace   \n",
       "3      PayMe India                        Financial Services, FinTech   \n",
       "4         Eunimart                 E-Commerce Platforms, Retail, SaaS   \n",
       "\n",
       "  Round/Series       Amount                          Location  \\\n",
       "0         Seed       250000       Bangalore, Karnataka, India   \n",
       "1         Seed  ₹40,000,000        Mumbai, Maharashtra, India   \n",
       "2     Series A  ₹65,000,000           Gurgaon, Haryana, India   \n",
       "3        Angel      2000000       Noida, Uttar Pradesh, India   \n",
       "4         Seed            —  Hyderabad, Andhra Pradesh, India   \n",
       "\n",
       "                                       About Company  \n",
       "0  TheCollegeFever is a hub for fun, fiesta and f...  \n",
       "1  A startup which aggregates milk from dairy far...  \n",
       "2          Leading Online Loans Marketplace in India  \n",
       "3  PayMe India is an innovative FinTech organizat...  \n",
       "4  Eunimart is a one stop solution for merchants ...  "
      ]
     },
     "execution_count": 25,
     "metadata": {},
     "output_type": "execute_result"
    }
   ],
   "source": [
    "# View the upper part of the dataset (2018)\n",
    "\n",
    "data4.head()"
   ]
  },
  {
   "cell_type": "code",
   "execution_count": 26,
   "metadata": {},
   "outputs": [
    {
     "data": {
      "text/html": [
       "<div>\n",
       "<style scoped>\n",
       "    .dataframe tbody tr th:only-of-type {\n",
       "        vertical-align: middle;\n",
       "    }\n",
       "\n",
       "    .dataframe tbody tr th {\n",
       "        vertical-align: top;\n",
       "    }\n",
       "\n",
       "    .dataframe thead th {\n",
       "        text-align: right;\n",
       "    }\n",
       "</style>\n",
       "<table border=\"1\" class=\"dataframe\">\n",
       "  <thead>\n",
       "    <tr style=\"text-align: right;\">\n",
       "      <th></th>\n",
       "      <th>Company Name</th>\n",
       "      <th>Industry</th>\n",
       "      <th>Round/Series</th>\n",
       "      <th>Amount</th>\n",
       "      <th>Location</th>\n",
       "      <th>About Company</th>\n",
       "    </tr>\n",
       "  </thead>\n",
       "  <tbody>\n",
       "    <tr>\n",
       "      <th>521</th>\n",
       "      <td>Udaan</td>\n",
       "      <td>B2B, Business Development, Internet, Marketplace</td>\n",
       "      <td>Series C</td>\n",
       "      <td>225000000</td>\n",
       "      <td>Bangalore, Karnataka, India</td>\n",
       "      <td>Udaan is a B2B trade platform, designed specif...</td>\n",
       "    </tr>\n",
       "    <tr>\n",
       "      <th>522</th>\n",
       "      <td>Happyeasygo Group</td>\n",
       "      <td>Tourism, Travel</td>\n",
       "      <td>Series A</td>\n",
       "      <td>—</td>\n",
       "      <td>Haryana, Haryana, India</td>\n",
       "      <td>HappyEasyGo is an online travel domain.</td>\n",
       "    </tr>\n",
       "    <tr>\n",
       "      <th>523</th>\n",
       "      <td>Mombay</td>\n",
       "      <td>Food and Beverage, Food Delivery, Internet</td>\n",
       "      <td>Seed</td>\n",
       "      <td>7500</td>\n",
       "      <td>Mumbai, Maharashtra, India</td>\n",
       "      <td>Mombay is a unique opportunity for housewives ...</td>\n",
       "    </tr>\n",
       "    <tr>\n",
       "      <th>524</th>\n",
       "      <td>Droni Tech</td>\n",
       "      <td>Information Technology</td>\n",
       "      <td>Seed</td>\n",
       "      <td>₹35,000,000</td>\n",
       "      <td>Mumbai, Maharashtra, India</td>\n",
       "      <td>Droni Tech manufacture UAVs and develop softwa...</td>\n",
       "    </tr>\n",
       "    <tr>\n",
       "      <th>525</th>\n",
       "      <td>Netmeds</td>\n",
       "      <td>Biotechnology, Health Care, Pharmaceutical</td>\n",
       "      <td>Series C</td>\n",
       "      <td>35000000</td>\n",
       "      <td>Chennai, Tamil Nadu, India</td>\n",
       "      <td>Welcome to India's most convenient pharmacy!</td>\n",
       "    </tr>\n",
       "  </tbody>\n",
       "</table>\n",
       "</div>"
      ],
      "text/plain": [
       "          Company Name                                          Industry  \\\n",
       "521              Udaan  B2B, Business Development, Internet, Marketplace   \n",
       "522  Happyeasygo Group                                   Tourism, Travel   \n",
       "523             Mombay        Food and Beverage, Food Delivery, Internet   \n",
       "524         Droni Tech                            Information Technology   \n",
       "525            Netmeds        Biotechnology, Health Care, Pharmaceutical   \n",
       "\n",
       "    Round/Series       Amount                     Location  \\\n",
       "521     Series C    225000000  Bangalore, Karnataka, India   \n",
       "522     Series A            —      Haryana, Haryana, India   \n",
       "523         Seed         7500   Mumbai, Maharashtra, India   \n",
       "524         Seed  ₹35,000,000   Mumbai, Maharashtra, India   \n",
       "525     Series C     35000000   Chennai, Tamil Nadu, India   \n",
       "\n",
       "                                         About Company  \n",
       "521  Udaan is a B2B trade platform, designed specif...  \n",
       "522            HappyEasyGo is an online travel domain.  \n",
       "523  Mombay is a unique opportunity for housewives ...  \n",
       "524  Droni Tech manufacture UAVs and develop softwa...  \n",
       "525       Welcome to India's most convenient pharmacy!  "
      ]
     },
     "execution_count": 26,
     "metadata": {},
     "output_type": "execute_result"
    }
   ],
   "source": [
    "# View the lower part of the dataset (2018)\n",
    "\n",
    "data4.tail()"
   ]
  },
  {
   "cell_type": "code",
   "execution_count": 27,
   "metadata": {},
   "outputs": [
    {
     "data": {
      "text/plain": [
       "(526, 6)"
      ]
     },
     "execution_count": 27,
     "metadata": {},
     "output_type": "execute_result"
    }
   ],
   "source": [
    "#Show the shape of the dataset (2018)\n",
    "\n",
    "data4.shape"
   ]
  },
  {
   "cell_type": "code",
   "execution_count": 28,
   "metadata": {},
   "outputs": [
    {
     "data": {
      "text/html": [
       "<div>\n",
       "<style scoped>\n",
       "    .dataframe tbody tr th:only-of-type {\n",
       "        vertical-align: middle;\n",
       "    }\n",
       "\n",
       "    .dataframe tbody tr th {\n",
       "        vertical-align: top;\n",
       "    }\n",
       "\n",
       "    .dataframe thead th {\n",
       "        text-align: right;\n",
       "    }\n",
       "</style>\n",
       "<table border=\"1\" class=\"dataframe\">\n",
       "  <thead>\n",
       "    <tr style=\"text-align: right;\">\n",
       "      <th></th>\n",
       "      <th>count</th>\n",
       "      <th>unique</th>\n",
       "      <th>top</th>\n",
       "      <th>freq</th>\n",
       "    </tr>\n",
       "  </thead>\n",
       "  <tbody>\n",
       "    <tr>\n",
       "      <th>Company Name</th>\n",
       "      <td>526</td>\n",
       "      <td>525</td>\n",
       "      <td>TheCollegeFever</td>\n",
       "      <td>2</td>\n",
       "    </tr>\n",
       "    <tr>\n",
       "      <th>Industry</th>\n",
       "      <td>526</td>\n",
       "      <td>405</td>\n",
       "      <td>—</td>\n",
       "      <td>30</td>\n",
       "    </tr>\n",
       "    <tr>\n",
       "      <th>Round/Series</th>\n",
       "      <td>526</td>\n",
       "      <td>21</td>\n",
       "      <td>Seed</td>\n",
       "      <td>280</td>\n",
       "    </tr>\n",
       "    <tr>\n",
       "      <th>Amount</th>\n",
       "      <td>526</td>\n",
       "      <td>198</td>\n",
       "      <td>—</td>\n",
       "      <td>148</td>\n",
       "    </tr>\n",
       "    <tr>\n",
       "      <th>Location</th>\n",
       "      <td>526</td>\n",
       "      <td>50</td>\n",
       "      <td>Bangalore, Karnataka, India</td>\n",
       "      <td>102</td>\n",
       "    </tr>\n",
       "    <tr>\n",
       "      <th>About Company</th>\n",
       "      <td>526</td>\n",
       "      <td>524</td>\n",
       "      <td>TheCollegeFever is a hub for fun, fiesta and f...</td>\n",
       "      <td>2</td>\n",
       "    </tr>\n",
       "  </tbody>\n",
       "</table>\n",
       "</div>"
      ],
      "text/plain": [
       "              count unique                                                top  \\\n",
       "Company Name    526    525                                    TheCollegeFever   \n",
       "Industry        526    405                                                  —   \n",
       "Round/Series    526     21                                               Seed   \n",
       "Amount          526    198                                                  —   \n",
       "Location        526     50                        Bangalore, Karnataka, India   \n",
       "About Company   526    524  TheCollegeFever is a hub for fun, fiesta and f...   \n",
       "\n",
       "              freq  \n",
       "Company Name     2  \n",
       "Industry        30  \n",
       "Round/Series   280  \n",
       "Amount         148  \n",
       "Location       102  \n",
       "About Company    2  "
      ]
     },
     "execution_count": 28,
     "metadata": {},
     "output_type": "execute_result"
    }
   ],
   "source": [
    "#Show the Summary Statistics for 2018\n",
    "\n",
    "data4.describe().T"
   ]
  },
  {
   "cell_type": "code",
   "execution_count": 29,
   "metadata": {},
   "outputs": [],
   "source": [
    "#Rename columns of data_2018 to match combined_data\n",
    "\n",
    "data4= data4.rename(columns={\n",
    "    'Company Name': 'Company_Brand',\n",
    "    'Industry': 'Sector',\n",
    "    'Round/Series': 'Stage',\n",
    "    'Amount': 'Amount',\n",
    "    'Location': 'HeadQuarter',\n",
    "    'About Company': 'What_it_does'\n",
    "})"
   ]
  },
  {
   "cell_type": "markdown",
   "metadata": {},
   "source": [
    "# Preprocessing the data to check the quality of all the dataset 2021-2018"
   ]
  },
  {
   "cell_type": "markdown",
   "metadata": {},
   "source": [
    "#Display the data types on Start-up funding 2018-2021"
   ]
  },
  {
   "cell_type": "code",
   "execution_count": 30,
   "metadata": {},
   "outputs": [
    {
     "data": {
      "text/plain": [
       "Company_Brand     object\n",
       "Founded          float64\n",
       "HeadQuarter       object\n",
       "Sector            object\n",
       "What_it_does      object\n",
       "Founders          object\n",
       "Investor          object\n",
       "Amount           float64\n",
       "Stage             object\n",
       "column10          object\n",
       "dtype: object"
      ]
     },
     "execution_count": 30,
     "metadata": {},
     "output_type": "execute_result"
    }
   ],
   "source": [
    "# Dataset 2021\n",
    "data.dtypes "
   ]
  },
  {
   "cell_type": "code",
   "execution_count": 31,
   "metadata": {},
   "outputs": [
    {
     "data": {
      "text/plain": [
       "Company_Brand     object\n",
       "Founded          float64\n",
       "HeadQuarter       object\n",
       "Sector            object\n",
       "What_it_does      object\n",
       "Founders          object\n",
       "Investor          object\n",
       "Amount            object\n",
       "Stage             object\n",
       "dtype: object"
      ]
     },
     "execution_count": 31,
     "metadata": {},
     "output_type": "execute_result"
    }
   ],
   "source": [
    "# Dataset 2020\n",
    "\n",
    "data2.dtypes "
   ]
  },
  {
   "cell_type": "code",
   "execution_count": 32,
   "metadata": {},
   "outputs": [
    {
     "data": {
      "text/plain": [
       "Company/Brand     object\n",
       "Founded          float64\n",
       "HeadQuarter       object\n",
       "Sector            object\n",
       "What it does      object\n",
       "Founders          object\n",
       "Investor          object\n",
       "Amount($)         object\n",
       "Stage             object\n",
       "dtype: object"
      ]
     },
     "execution_count": 32,
     "metadata": {},
     "output_type": "execute_result"
    }
   ],
   "source": [
    "# Dataset 2019\n",
    "\n",
    "data3.dtypes "
   ]
  },
  {
   "cell_type": "code",
   "execution_count": 33,
   "metadata": {},
   "outputs": [
    {
     "data": {
      "text/plain": [
       "Company_Brand    object\n",
       "Sector           object\n",
       "Stage            object\n",
       "Amount           object\n",
       "HeadQuarter      object\n",
       "What_it_does     object\n",
       "dtype: object"
      ]
     },
     "execution_count": 33,
     "metadata": {},
     "output_type": "execute_result"
    }
   ],
   "source": [
    "# Dataset 2018\n",
    "\n",
    "data4.dtypes "
   ]
  },
  {
   "cell_type": "markdown",
   "metadata": {},
   "source": [
    "#Display the unique data types on Start-up funding 2021-2018\n"
   ]
  },
  {
   "cell_type": "code",
   "execution_count": 34,
   "metadata": {},
   "outputs": [
    {
     "data": {
      "text/plain": [
       "Company_Brand    905\n",
       "Founded           26\n",
       "HeadQuarter       77\n",
       "Sector           302\n",
       "What_it_does     990\n",
       "Founders         927\n",
       "Investor         848\n",
       "Amount           300\n",
       "Stage             42\n",
       "column10           2\n",
       "dtype: int64"
      ]
     },
     "execution_count": 34,
     "metadata": {},
     "output_type": "execute_result"
    }
   ],
   "source": [
    "#Display 2021\n",
    "\n",
    "data.nunique()"
   ]
  },
  {
   "cell_type": "code",
   "execution_count": 35,
   "metadata": {},
   "outputs": [
    {
     "data": {
      "text/plain": [
       "Company_Brand    1033\n",
       "Founded            30\n",
       "HeadQuarter        70\n",
       "Sector            254\n",
       "What_it_does     1143\n",
       "Founders         1095\n",
       "Investor          937\n",
       "Amount            278\n",
       "Stage              31\n",
       "dtype: int64"
      ]
     },
     "execution_count": 35,
     "metadata": {},
     "output_type": "execute_result"
    }
   ],
   "source": [
    "#Display 2020\n",
    "\n",
    "data2.nunique()"
   ]
  },
  {
   "cell_type": "code",
   "execution_count": 36,
   "metadata": {},
   "outputs": [
    {
     "data": {
      "text/plain": [
       "Company/Brand    87\n",
       "Founded          12\n",
       "HeadQuarter      17\n",
       "Sector           52\n",
       "What it does     88\n",
       "Founders         85\n",
       "Investor         86\n",
       "Amount($)        50\n",
       "Stage            15\n",
       "dtype: int64"
      ]
     },
     "execution_count": 36,
     "metadata": {},
     "output_type": "execute_result"
    }
   ],
   "source": [
    "#Display 2019\n",
    "\n",
    "data3.nunique()"
   ]
  },
  {
   "cell_type": "code",
   "execution_count": 37,
   "metadata": {},
   "outputs": [
    {
     "data": {
      "text/plain": [
       "Company_Brand    525\n",
       "Sector           405\n",
       "Stage             21\n",
       "Amount           198\n",
       "HeadQuarter       50\n",
       "What_it_does     524\n",
       "dtype: int64"
      ]
     },
     "execution_count": 37,
     "metadata": {},
     "output_type": "execute_result"
    }
   ],
   "source": [
    "#Display 2018\n",
    "\n",
    "data4.nunique()"
   ]
  },
  {
   "cell_type": "markdown",
   "metadata": {},
   "source": [
    "# CONCATENATING DATASETS"
   ]
  },
  {
   "cell_type": "code",
   "execution_count": 38,
   "metadata": {},
   "outputs": [],
   "source": [
    "# Combine all datasets\n",
    "df_combined = pd.concat([data, data2, data3, data4], ignore_index=True)"
   ]
  },
  {
   "cell_type": "code",
   "execution_count": 39,
   "metadata": {},
   "outputs": [
    {
     "name": "stdout",
     "output_type": "stream",
     "text": [
      "<class 'pandas.core.frame.DataFrame'>\n",
      "RangeIndex: 2879 entries, 0 to 2878\n",
      "Data columns (total 13 columns):\n",
      " #   Column         Non-Null Count  Dtype  \n",
      "---  ------         --------------  -----  \n",
      " 0   Company_Brand  2790 non-null   object \n",
      " 1   Founded        2110 non-null   float64\n",
      " 2   HeadQuarter    2765 non-null   object \n",
      " 3   Sector         2861 non-null   object \n",
      " 4   What_it_does   2790 non-null   object \n",
      " 5   Founders       2334 non-null   object \n",
      " 6   Investor       2253 non-null   object \n",
      " 7   Amount         2533 non-null   object \n",
      " 8   Stage          1941 non-null   object \n",
      " 9   column10       2 non-null      object \n",
      " 10  Company/Brand  89 non-null     object \n",
      " 11  What it does   89 non-null     object \n",
      " 12  Amount($)      89 non-null     object \n",
      "dtypes: float64(1), object(12)\n",
      "memory usage: 292.5+ KB\n"
     ]
    }
   ],
   "source": [
    "df_combined.info()"
   ]
  },
  {
   "cell_type": "code",
   "execution_count": 40,
   "metadata": {},
   "outputs": [
    {
     "data": {
      "text/html": [
       "<div>\n",
       "<style scoped>\n",
       "    .dataframe tbody tr th:only-of-type {\n",
       "        vertical-align: middle;\n",
       "    }\n",
       "\n",
       "    .dataframe tbody tr th {\n",
       "        vertical-align: top;\n",
       "    }\n",
       "\n",
       "    .dataframe thead th {\n",
       "        text-align: right;\n",
       "    }\n",
       "</style>\n",
       "<table border=\"1\" class=\"dataframe\">\n",
       "  <thead>\n",
       "    <tr style=\"text-align: right;\">\n",
       "      <th></th>\n",
       "      <th>count</th>\n",
       "      <th>mean</th>\n",
       "      <th>std</th>\n",
       "      <th>min</th>\n",
       "      <th>25%</th>\n",
       "      <th>50%</th>\n",
       "      <th>75%</th>\n",
       "      <th>max</th>\n",
       "    </tr>\n",
       "  </thead>\n",
       "  <tbody>\n",
       "    <tr>\n",
       "      <th>Founded</th>\n",
       "      <td>2110.0</td>\n",
       "      <td>2016.079621</td>\n",
       "      <td>4.368006</td>\n",
       "      <td>1963.0</td>\n",
       "      <td>2015.0</td>\n",
       "      <td>2017.0</td>\n",
       "      <td>2019.0</td>\n",
       "      <td>2021.0</td>\n",
       "    </tr>\n",
       "  </tbody>\n",
       "</table>\n",
       "</div>"
      ],
      "text/plain": [
       "          count         mean       std     min     25%     50%     75%     max\n",
       "Founded  2110.0  2016.079621  4.368006  1963.0  2015.0  2017.0  2019.0  2021.0"
      ]
     },
     "execution_count": 40,
     "metadata": {},
     "output_type": "execute_result"
    }
   ],
   "source": [
    "df_combined.describe().T"
   ]
  },
  {
   "cell_type": "code",
   "execution_count": 41,
   "metadata": {},
   "outputs": [
    {
     "data": {
      "text/plain": [
       "Company_Brand     object\n",
       "Founded          float64\n",
       "HeadQuarter       object\n",
       "Sector            object\n",
       "What_it_does      object\n",
       "Founders          object\n",
       "Investor          object\n",
       "Amount            object\n",
       "Stage             object\n",
       "column10          object\n",
       "Company/Brand     object\n",
       "What it does      object\n",
       "Amount($)         object\n",
       "dtype: object"
      ]
     },
     "execution_count": 41,
     "metadata": {},
     "output_type": "execute_result"
    }
   ],
   "source": [
    "df_combined.dtypes\n"
   ]
  },
  {
   "cell_type": "code",
   "execution_count": 42,
   "metadata": {},
   "outputs": [
    {
     "data": {
      "text/plain": [
       "Company_Brand    2168\n",
       "Founded            34\n",
       "HeadQuarter       172\n",
       "Sector            873\n",
       "What_it_does     2617\n",
       "Founders         1980\n",
       "Investor         1777\n",
       "Amount            754\n",
       "Stage              75\n",
       "column10            2\n",
       "Company/Brand      87\n",
       "What it does       88\n",
       "Amount($)          50\n",
       "dtype: int64"
      ]
     },
     "execution_count": 42,
     "metadata": {},
     "output_type": "execute_result"
    }
   ],
   "source": [
    "df_combined.nunique()"
   ]
  },
  {
   "cell_type": "code",
   "execution_count": 43,
   "metadata": {},
   "outputs": [
    {
     "data": {
      "text/plain": [
       "(2879, 13)"
      ]
     },
     "execution_count": 43,
     "metadata": {},
     "output_type": "execute_result"
    }
   ],
   "source": [
    "df_combined.shape"
   ]
  },
  {
   "cell_type": "code",
   "execution_count": 44,
   "metadata": {},
   "outputs": [
    {
     "data": {
      "text/plain": [
       "23"
      ]
     },
     "execution_count": 44,
     "metadata": {},
     "output_type": "execute_result"
    }
   ],
   "source": [
    "df_combined.duplicated().sum()"
   ]
  },
  {
   "cell_type": "markdown",
   "metadata": {},
   "source": [
    "# CLEANING ALL THE DATASETS 2021-2018"
   ]
  },
  {
   "cell_type": "code",
   "execution_count": 45,
   "metadata": {},
   "outputs": [],
   "source": [
    "# Renaming columns to standardize names\n",
    "df_combined.rename(columns={\n",
    "    'Company/Brand': 'Company_Brand',\n",
    "    'What it does': 'What_it_does',\n",
    "    'Amount($)': 'Amount'\n",
    "},inplace=True)"
   ]
  },
  {
   "cell_type": "code",
   "execution_count": 46,
   "metadata": {},
   "outputs": [
    {
     "data": {
      "text/plain": [
       "array([False, False, False, False, False, False, False, False, False,\n",
       "       False,  True,  True,  True])"
      ]
     },
     "execution_count": 46,
     "metadata": {},
     "output_type": "execute_result"
    }
   ],
   "source": [
    "# Check for duplicated columns\n",
    "df_combined.columns.duplicated()"
   ]
  },
  {
   "cell_type": "code",
   "execution_count": 47,
   "metadata": {},
   "outputs": [],
   "source": [
    "# Rename duplicate columns to make them unique\n",
    "\n",
    "df_combined.columns = ['Company_Brand_1', 'Founded', 'HeadQuarter', 'Sector', 'What_it_does_1', 'Founders', 'Investor', 'Amount_1', 'Stage', 'column10', 'Company_Brand_2', 'What_it_does_2', 'Amount_2']\n"
   ]
  },
  {
   "cell_type": "code",
   "execution_count": 48,
   "metadata": {},
   "outputs": [],
   "source": [
    "# Merge the duplicated columns\n",
    "df_combined['Company_Brand'] = df_combined['Company_Brand_1'].combine_first(df_combined['Company_Brand_2'])\n",
    "df_combined['What_it_does'] = df_combined['What_it_does_1'].combine_first(df_combined['What_it_does_2'])\n",
    "df_combined['Amount'] = df_combined['Amount_1'].combine_first(df_combined['Amount_2'])"
   ]
  },
  {
   "cell_type": "code",
   "execution_count": 49,
   "metadata": {},
   "outputs": [],
   "source": [
    "# Drop the original duplicated columns after merging\n",
    "df_combined.drop(columns=['Company_Brand_1', 'Company_Brand_2', 'What_it_does_1', 'What_it_does_2', 'Amount_1', 'Amount_2'],inplace=True)"
   ]
  },
  {
   "cell_type": "code",
   "execution_count": 50,
   "metadata": {},
   "outputs": [
    {
     "name": "stdout",
     "output_type": "stream",
     "text": [
      "<class 'pandas.core.frame.DataFrame'>\n",
      "RangeIndex: 2879 entries, 0 to 2878\n",
      "Data columns (total 10 columns):\n",
      " #   Column         Non-Null Count  Dtype  \n",
      "---  ------         --------------  -----  \n",
      " 0   Founded        2110 non-null   float64\n",
      " 1   HeadQuarter    2765 non-null   object \n",
      " 2   Sector         2861 non-null   object \n",
      " 3   Founders       2334 non-null   object \n",
      " 4   Investor       2253 non-null   object \n",
      " 5   Stage          1941 non-null   object \n",
      " 6   column10       2 non-null      object \n",
      " 7   Company_Brand  2879 non-null   object \n",
      " 8   What_it_does   2879 non-null   object \n",
      " 9   Amount         2622 non-null   object \n",
      "dtypes: float64(1), object(9)\n",
      "memory usage: 225.1+ KB\n"
     ]
    }
   ],
   "source": [
    "df_combined.info()"
   ]
  },
  {
   "cell_type": "markdown",
   "metadata": {},
   "source": [
    "# COLUMN BY COLUMN CLEANING"
   ]
  },
  {
   "cell_type": "code",
   "execution_count": 51,
   "metadata": {},
   "outputs": [
    {
     "data": {
      "text/plain": [
       "array([200000.0, 100000.0, nan, 400000.0, 340000.0, 600000.0, 45000000.0,\n",
       "       1000000.0, 2000000.0, 1200000.0, 660000000.0, 120000.0, 7500000.0,\n",
       "       5000000.0, 500000.0, 3000000.0, 10000000.0, 145000000.0,\n",
       "       100000000.0, 21000000.0, 4000000.0, 20000000.0, 560000.0, 275000.0,\n",
       "       4500000.0, 15000000.0, 390000000.0, 7000000.0, 5100000.0,\n",
       "       700000000.0, 2300000.0, 700000.0, 19000000.0, 9000000.0,\n",
       "       40000000.0, 750000.0, 1500000.0, 7800000.0, 50000000.0, 80000000.0,\n",
       "       30000000.0, 1700000.0, 2500000.0, 40000.0, 33000000.0, 35000000.0,\n",
       "       300000.0, 25000000.0, 3500000.0, 200000000.0, 6000000.0, 1300000.0,\n",
       "       4100000.0, 575000.0, 800000.0, 28000000.0, 18000000.0, 3200000.0,\n",
       "       900000.0, 250000.0, 4700000.0, 75000000.0, 8000000.0, 121000000.0,\n",
       "       55000000.0, 3300000.0, 11000000.0, 16000000.0, 5400000.0,\n",
       "       150000000.0, 4200000.0, 22000000.0, 52000000.0, 1100000.0,\n",
       "       118000000.0, 1600000.0, 18500000.0, 70000000000.0, 800000000.0,\n",
       "       400000000.0, 150000.0, 176000000.0, 60000000.0, 470000.0, 240000.0,\n",
       "       3000000000.0, 74000000.0, 62000000.0, 2100000.0, 500000000.0,\n",
       "       12500000.0, 2200000000.0, 5060000.0, 225000000.0, 24700000.0,\n",
       "       7700000.0, 19067328.0, 51000000.0, 115000.0, 54000.0, 20000.0,\n",
       "       803146.0, 238000.0, 10220000.0, 1020000.0, 12000000.0, 13400000.0,\n",
       "       170000000.0, 2900000.0, 543000.0, 90000000.0, 3400000.0,\n",
       "       23000000.0, 8090000.0, 1030000.0, 5040000.0, 360000.0, 1400000.0,\n",
       "       650000.0, 54000000.0, 42500000.0, 11370000.0, 325000.0, 410000.0,\n",
       "       450000.0, 682000.0, 4050000.0, 1050000.0, 1080000.0, 4300000.0,\n",
       "       6800000.0, 2110000.0, 764000.0, 603000.0, 409000.0, 292000.0,\n",
       "       286000.0, 136000.0, 546000.0, 887000.0, 43000.0, 40900.0,\n",
       "       2200000.0, 5660000.0, 350000.0, 110000.0, 122000000.0, 11635000.0,\n",
       "       2800000.0, 1065000.0, 669000.0, 16076000.0, 649600.0, 6700000.0,\n",
       "       220000.0, 266500.0, 2879000.0, 26500000.0, 351000.0, 46761000.0,\n",
       "       175000.0, 11241000.0, 804000.0, 1340000.0, 467000.0, 133000.0,\n",
       "       3823000.0, 934000.0, 293000.0, 198000.0, 927000.0, 971000.0,\n",
       "       3060000.0, 1862000.0, 232000.0, 2888000.0, 1328000.0, 15500000.0,\n",
       "       56000000.0, 2250000.0, 16753000.0, 3700000.0, 1470000.0, 530000.0,\n",
       "       267000.0, 3344000.0, 7200000.0, 2743000.0, 6082000.0, 6609000.0,\n",
       "       27700000.0, 5940000.0, 3964000.0, 5500000.0, 197000.0, 4327000.0,\n",
       "       459000.0, 3937000.0, 1313500.0, 229800.0, 5305000.0, 264000.0,\n",
       "       1750000.0, 5967000.0, 2980000.0, 323000.0, 1326000.0, 27000000.0,\n",
       "       5200000.0, 2530000.0, 792000.0, 11363000.0, 1715000.0, 329000.0,\n",
       "       5271000.0, 8700000.0, 3226000.0, 5900000.0, 44000000.0, 3879000.0,\n",
       "       13000000.0, 8800000.0, 9500000.0, 920000.0, 35600000.0, 9400000.0,\n",
       "       790000.0, 480000.0, 160000.0, 8200000.0, 4257000.0, 1410000.0,\n",
       "       349800.0, 786000.0, 2004000.0, 123000000.0, 248000.0, 24000000.0,\n",
       "       14259000.0, 24500000.0, 3800000.0, 18370000.0, 68525000.0,\n",
       "       4800000.0, 1834000.0, 23850000.0, 43000000.0, 21600000.0,\n",
       "       4598000.0, 13137000.0, 115000000.0, 3900000.0, 670000.0, 8500000.0,\n",
       "       3148000.0, 2600000.0, 4049500.0, 10500000.0, 6500000.0, 43700000.0,\n",
       "       13800000.0, 306900.0, 420000.0, 627300.0, 113000000.0, 32000000.0,\n",
       "       110000000.0, 1397000.0, 448500.0, 7975700.0, 330000.0, 5600000.0,\n",
       "       1402000.0, 21500000.0, 296000000.0, 4900000.0, 1402400.0,\n",
       "       12618300.0, 9900000.0, 982530.0, 70185200.0, 210000000.0,\n",
       "       84000000.0, 39000000.0, 2700000.0, 1403400.0, 105000000.0,\n",
       "       103000000.0, 281300.0, 12700.0, 25000.0, 97500000.0, 507000.0,\n",
       "       8400000.0, 18300000.0, 125000000.0, 181000.0, 280000.0, 14700000.0,\n",
       "       13200000.0, 8043000.0, '$1,200,000', '$120,000,000', '$30,000,000',\n",
       "       '$51,000,000', '$2,000,000', '$188,000,000', '$200,000',\n",
       "       'Undisclosed', '$1,000,000', '$3,000,000', '$100,000', '$700,000',\n",
       "       '$9,000,000', '$40,000,000', '$49,000,000', '$400,000', '$300,000',\n",
       "       '$25,000,000', '$160,000,000', '$150,000', '$1,800,000',\n",
       "       '$5,000,000', '$850,000', '$53,000,000', '$500,000', '$1,100,000',\n",
       "       '$6,000,000', '$800,000', '$10,000,000', '$21,000,000',\n",
       "       '$7,500,000', '$26,000,000', '$7,400,000', '$1,500,000',\n",
       "       '$600,000', '$800,000,000', '$17,000,000', '$3,500,000',\n",
       "       '$15,000,000', '$215,000,000', '$2,500,000', '$350,000,000',\n",
       "       '$5,500,000', '$83,000,000', '$110,000,000', '$500,000,000',\n",
       "       '$65,000,000', '$150,000,000,000', '$300,000,000', '$2,200,000',\n",
       "       '$35,000,000', '$140,000,000', '$4,000,000', '$13,000,000',\n",
       "       '$Undisclosed', '$2000000', '$800000', '$6000000', '$2500000',\n",
       "       '$9500000', '$13000000', '$5000000', '$8000000', '$1000000',\n",
       "       'Upsparks', '$200000', '$12000000', '$1500000', '$1700000',\n",
       "       '$5500000', '$400000', '$150000000', '$4000000', '$100000000',\n",
       "       '$500000', '$15000000', '$10000000', '$40000000', '$225000000',\n",
       "       '$6700000', '$1300000', '$20000000', '$250000', '$21000000',\n",
       "       '$1200000', '$52000000', '$3800000', '$17500000', '$42000000',\n",
       "       '$2300000', '$7000000', '$30000000', '$450000000', '$28000000',\n",
       "       '$300000', '$3500000', '$8500000', '$25000000', '$3000000',\n",
       "       '$37000000', '$370000000', '$700000', '$16000000', '$100000',\n",
       "       '$44000000', '$770000', '$125000000', '$35000000', '$50000000',\n",
       "       '$4900000', '$145000000', '$22000000', '$70000000', '$6600000',\n",
       "       '$32000000', '$24000000', '$725000', '$461000', 'Series C', 'Seed',\n",
       "       '$96000000', '$60000000', '$500000000', '$266000000', '$4500000',\n",
       "       '$325000000', '$6500000', '$1600000', '$150000', '$225000',\n",
       "       '$85000000', '$235000', '$260000', '$2900000', '$53000000',\n",
       "       '$1100000', '$86000000', '$130000', '$$100,00', '$111000000',\n",
       "       '$265000', '$76000000', '$100,000,000', '$75,000,000',\n",
       "       '$3,800,000', '$12,000,000', '$1,600,000', '$260,000',\n",
       "       '$1,000,000,000', '$18,000,000', '$20,000,000', '$350,000',\n",
       "       '$95,000,000', '$4,100,000', '$5,200,000', '$8,000,000',\n",
       "       '$1,400,000', '$2,600,000', '$900,000', '$250,000', '$16,000,000',\n",
       "       '$7,000,000', '$11,000,000', '$280,000,000', '$50,000,000',\n",
       "       '$14,300,000', '$81,000,000', '$1,300,000', '$8,200,000',\n",
       "       '$70,000,000', '$720,000', '$600000', '$9000000', '$1800000',\n",
       "       '$330000', '$undisclosed', '$200000000', '$36000000', '$67000000',\n",
       "       '$10200000', '$220000000', '$108000000', '$75000000', '$450000',\n",
       "       '$660000000', 'ah! Ventures', '$45000000', '$3200000', '$370000',\n",
       "       'Pre-series A', 'ITO Angel Network, LetsVenture', '$48000000',\n",
       "       '$3600000', '$11000000', '$192000000', '$65000000', '$1400000',\n",
       "       '$1900000', '$41000000', '$144000000', '$5200000', '$270000000',\n",
       "       '$140000', '$250000000', '$320000', '$350000000', '$4800000',\n",
       "       '$38000000', '$125000', '$26000000', '$64000000', '$620000',\n",
       "       '$900000', 'JITO Angel Network, LetsVenture', '$2600000',\n",
       "       '$1,250,000', '$400,000,000', '$1,700,000', '$27,000,000',\n",
       "       '$234,000,000', '$460,000,000', '$13,500,000', '$5,100,000',\n",
       "       '$195,000,000', '$125,000', '$45,000,000', '$200,000,000',\n",
       "       '$7,300,000', '$6,300,000', '$12,500,000', '$24,000,000',\n",
       "       '$140,000', '$16,500,000', '$340,000', '$43,000,000',\n",
       "       '$150,000,000', '$3300000', '$92000000', '$17000000', '$135000000',\n",
       "       '$$1,55,000', '$2100000', '$840000000', '$248000000', '$4300000',\n",
       "       '$570000', '$2200000', '$4700000', '$300000000', '$260000000',\n",
       "       '$140000000', '$175000000', '$19000000', '$810000', '$7500000',\n",
       "       '$600000000', '$90000000', '$5700000', '$6750000', '$78000000',\n",
       "       '$5400000', '$115000000', '$255000000', '$18000000', '$570000000',\n",
       "       '$550000', '$2700000', '$4200000', '$31000000', '$540000',\n",
       "       '$14000000', '$340000', '$', '$6200000', '$750000', '$6300000',\n",
       "       '$23000000', '$55000000', '$28,000,000', '$275,000,000',\n",
       "       '$22,000,000', '$140,500', '$540,000,000', '$182,700',\n",
       "       '$15,500,000', '$230,000,000', '$49,400,000', '$32,000,000',\n",
       "       '$6,800,000', '$36,000,000', '$5,700,000', '$60,000,000',\n",
       "       '$220,000', '$2,800,000', '$2,100,000', '$311,000,000',\n",
       "       '$4,800,000', '$693,000,000', '$33,000,000', '250000',\n",
       "       '₹40,000,000', '₹65,000,000', '2000000', '—', '1600000',\n",
       "       '₹16,000,000', '₹50,000,000', '₹100,000,000', '150000', '1100000',\n",
       "       '₹500,000', '6000000', '650000', '₹35,000,000', '₹64,000,000',\n",
       "       '₹20,000,000', '1000000', '5000000', '4000000', '₹30,000,000',\n",
       "       '2800000', '1700000', '1300000', '₹5,000,000', '₹12,500,000',\n",
       "       '₹15,000,000', '500000', '₹104,000,000', '₹45,000,000', '13400000',\n",
       "       '₹25,000,000', '₹26,400,000', '₹8,000,000', '₹60,000', '9000000',\n",
       "       '100000', '20000', '120000', '₹34,000,000', '₹342,000,000',\n",
       "       '$143,145', '₹600,000,000', '$742,000,000', '₹1,000,000,000',\n",
       "       '₹2,000,000,000', '$3,980,000', '$10,000', '₹100,000',\n",
       "       '₹250,000,000', '₹550,000,000', '$28,500,000', '₹240,000,000',\n",
       "       '₹120,000,000', '$2,400,000', '₹2,500,000,000', '$23,000,000',\n",
       "       '₹44,000,000', '$3,240,000', '₹60,000,000', '₹650,000,000',\n",
       "       '₹1,600,000,000', '₹70,000,000', '$14,000,000', '₹102,500,000',\n",
       "       '₹1,200,000', '₹5,200,000,000', '$1,041,000', '$15,000', '1400000',\n",
       "       '1200000', '2200000', '1800000', '3600000', '₹9,500,000', '300000',\n",
       "       '6830000', '200000', '₹150,000,000', '4300000', '364846', '400000',\n",
       "       '1500000', '₹7,000,000', '₹1,400,000', '₹10,000,000',\n",
       "       '₹22,500,000', '13200000', '50000', '₹140,200,000', '3000000',\n",
       "       '1250000', '180000', '₹19,200,000', '₹103,000,000', '4200000',\n",
       "       '175000', '1450000', '₹200,000', '4500000', '600000',\n",
       "       '₹16,600,000', '₹12,000,000', '15000000', '₹33,000,000', '125000',\n",
       "       '130000', '₹34,900,000', '₹72,000,000', '17200000', '₹32,000,000',\n",
       "       '3500000', '₹135,000,000', '12000000', '₹1,540,000,000',\n",
       "       '₹140,000,000', '$41,900,000', '₹1,410,000,000', '$3,530,000',\n",
       "       '$3,300,000', '₹580,000,000', '₹36,000,000', '₹340,000,000',\n",
       "       '$210,000,000', '$37,680,000', '$20,000', '₹510,000,000',\n",
       "       '₹2,200,000,000', '22000000', '70000', '10000000',\n",
       "       '₹15,392,000,000', '₹20,000,000,000', '₹4,000,000,000',\n",
       "       '185000000', '65000000', '₹165,000,000', '700000', '30000000',\n",
       "       '₹210,000,000', '210000000', '₹2,029,600,000', '75000000',\n",
       "       '₹80,000,000', '1760000', '2700000', '₹280,000,000',\n",
       "       '₹800,000,000', '750000', '2500000', '80000000', '25000000',\n",
       "       '₹730,000,000', '₹400,000,000', '3700000', '5600000',\n",
       "       '₹260,000,000', '99230000', '70000000', '40000', '550000',\n",
       "       '50000000', '365000000', '₹8,750,000', '₹78,000,000', '28000000',\n",
       "       '₹264,000,000', '100000000', '₹1,130,000,000', '₹810,000,000',\n",
       "       '₹1,400,000,000', '14900000', '225000000', '7500', '35000000'],\n",
       "      dtype=object)"
      ]
     },
     "execution_count": 51,
     "metadata": {},
     "output_type": "execute_result"
    }
   ],
   "source": [
    "df_combined['Amount'].unique()"
   ]
  },
  {
   "cell_type": "code",
   "execution_count": 52,
   "metadata": {},
   "outputs": [],
   "source": [
    "# Define the cleaning function\n",
    "def clean_amount(amount):\n",
    "    if pd.isna(amount) or amount in ['Undisclosed', '$Undisclosed', 'Upsparks']:\n",
    "        return np.nan\n",
    "    if isinstance(amount, str):\n",
    "        amount = amount.replace(',', '').replace('$', '').replace('₹', '')\n",
    "    try:\n",
    "        amount = float(amount)\n",
    "    except ValueError:\n",
    "        return np.nan\n",
    "    return amount\n"
   ]
  },
  {
   "cell_type": "code",
   "execution_count": 53,
   "metadata": {},
   "outputs": [],
   "source": [
    "# Apply the cleaning function to the 'Amount' column\n",
    "df_combined['Amount'] = df_combined['Amount'].apply(clean_amount)"
   ]
  },
  {
   "cell_type": "code",
   "execution_count": 54,
   "metadata": {},
   "outputs": [],
   "source": [
    "# Create a temporary column to identify the currency type\n",
    "\n",
    "df_combined['Currency'] = df_combined['Amount'].apply(lambda x: 'INR' if '₹' in str(x) else 'USD')"
   ]
  },
  {
   "cell_type": "code",
   "execution_count": 55,
   "metadata": {},
   "outputs": [],
   "source": [
    "# Function to convert all amounts to USD\n",
    "\n",
    "def convert_currency(amount, currency):\n",
    "    if currency == 'INR':\n",
    "        return amount * 0.013  # Assuming an exchange rate of 1 INR = 0.013 USD\n",
    "    return amount"
   ]
  },
  {
   "cell_type": "code",
   "execution_count": 56,
   "metadata": {},
   "outputs": [],
   "source": [
    "# Convert all amounts to USD\n",
    "\n",
    "df_combined['Amount'] = df_combined.apply(lambda row: convert_currency(row['Amount'], row['Currency']), axis=1)\n",
    "\n"
   ]
  },
  {
   "cell_type": "code",
   "execution_count": 57,
   "metadata": {},
   "outputs": [],
   "source": [
    "# Drop the temporary 'Currency' column\n",
    "\n",
    "df_combined.drop(columns=['Currency'], inplace=True)\n"
   ]
  },
  {
   "cell_type": "code",
   "execution_count": 58,
   "metadata": {},
   "outputs": [],
   "source": [
    "# Convert the cleaned 'Amount' column to numeric, forcing errors to NaN\n",
    "\n",
    "df_combined['Amount'] = pd.to_numeric(df_combined['Amount'], errors='coerce')\n"
   ]
  },
  {
   "cell_type": "code",
   "execution_count": 59,
   "metadata": {},
   "outputs": [
    {
     "name": "stdout",
     "output_type": "stream",
     "text": [
      "Missing values in 'Amount' column before filling: 567\n"
     ]
    }
   ],
   "source": [
    "# Check for missing values before filling\n",
    "\n",
    "missing_values_before = df_combined['Amount'].isnull().sum()\n",
    "print(f\"Missing values in 'Amount' column before filling: {missing_values_before}\")\n"
   ]
  },
  {
   "cell_type": "code",
   "execution_count": 60,
   "metadata": {},
   "outputs": [],
   "source": [
    "# Fill remaining missing values in 'Amount' column with the median value\n",
    "\n",
    "df_combined['Amount'].fillna(df_combined['Amount'].median(), inplace=True)"
   ]
  },
  {
   "cell_type": "code",
   "execution_count": 61,
   "metadata": {},
   "outputs": [
    {
     "name": "stdout",
     "output_type": "stream",
     "text": [
      "Missing values in 'Amount' column after filling: 0\n"
     ]
    }
   ],
   "source": [
    "# Check for missing values after filling\n",
    "\n",
    "missing_values_after = df_combined['Amount'].isnull().sum()\n",
    "print(f\"Missing values in 'Amount' column after filling: {missing_values_after}\")"
   ]
  },
  {
   "cell_type": "code",
   "execution_count": 62,
   "metadata": {},
   "outputs": [
    {
     "name": "stdout",
     "output_type": "stream",
     "text": [
      "<class 'pandas.core.frame.DataFrame'>\n",
      "RangeIndex: 2879 entries, 0 to 2878\n",
      "Data columns (total 10 columns):\n",
      " #   Column         Non-Null Count  Dtype  \n",
      "---  ------         --------------  -----  \n",
      " 0   Founded        2110 non-null   float64\n",
      " 1   HeadQuarter    2765 non-null   object \n",
      " 2   Sector         2861 non-null   object \n",
      " 3   Founders       2334 non-null   object \n",
      " 4   Investor       2253 non-null   object \n",
      " 5   Stage          1941 non-null   object \n",
      " 6   column10       2 non-null      object \n",
      " 7   Company_Brand  2879 non-null   object \n",
      " 8   What_it_does   2879 non-null   object \n",
      " 9   Amount         2879 non-null   float64\n",
      "dtypes: float64(2), object(8)\n",
      "memory usage: 225.1+ KB\n"
     ]
    }
   ],
   "source": [
    "# Check the cleaned DataFrame\n",
    "\n",
    "df_combined.info()"
   ]
  },
  {
   "cell_type": "markdown",
   "metadata": {},
   "source": [
    "FOUNDED"
   ]
  },
  {
   "cell_type": "code",
   "execution_count": 63,
   "metadata": {},
   "outputs": [
    {
     "data": {
      "text/plain": [
       "array([2019., 2018., 2020., 2016., 2008., 2015., 2017., 2014., 1998.,\n",
       "       2007., 2011., 1982., 2013., 2009., 2012., 1995., 2010., 2006.,\n",
       "       1978.,   nan, 1999., 1994., 2005., 1973., 2002., 2004., 2001.,\n",
       "       2021., 1993., 1989., 2000., 2003., 1991., 1984., 1963.])"
      ]
     },
     "execution_count": 63,
     "metadata": {},
     "output_type": "execute_result"
    }
   ],
   "source": [
    "df_combined['Founded'].unique()"
   ]
  },
  {
   "cell_type": "code",
   "execution_count": 64,
   "metadata": {},
   "outputs": [],
   "source": [
    "# Rename the column\n",
    "df_combined.rename(columns={'Founded': 'Year'}, inplace=True)"
   ]
  },
  {
   "cell_type": "code",
   "execution_count": 65,
   "metadata": {},
   "outputs": [],
   "source": [
    "# Convert the 'Year' column to datetime format (handling NaNs appropriately)\n",
    "df_combined['Year'] = pd.to_datetime(df_combined['Year'], format='%Y', errors='coerce')\n"
   ]
  },
  {
   "cell_type": "code",
   "execution_count": 66,
   "metadata": {},
   "outputs": [
    {
     "data": {
      "text/plain": [
       "<DatetimeArray>\n",
       "['2019-01-01 00:00:00', '2018-01-01 00:00:00', '2020-01-01 00:00:00',\n",
       " '2016-01-01 00:00:00', '2008-01-01 00:00:00', '2015-01-01 00:00:00',\n",
       " '2017-01-01 00:00:00', '2014-01-01 00:00:00', '1998-01-01 00:00:00',\n",
       " '2007-01-01 00:00:00', '2011-01-01 00:00:00', '1982-01-01 00:00:00',\n",
       " '2013-01-01 00:00:00', '2009-01-01 00:00:00', '2012-01-01 00:00:00',\n",
       " '1995-01-01 00:00:00', '2010-01-01 00:00:00', '2006-01-01 00:00:00',\n",
       " '1978-01-01 00:00:00',                 'NaT', '1999-01-01 00:00:00',\n",
       " '1994-01-01 00:00:00', '2005-01-01 00:00:00', '1973-01-01 00:00:00',\n",
       " '2002-01-01 00:00:00', '2004-01-01 00:00:00', '2001-01-01 00:00:00',\n",
       " '2021-01-01 00:00:00', '1993-01-01 00:00:00', '1989-01-01 00:00:00',\n",
       " '2000-01-01 00:00:00', '2003-01-01 00:00:00', '1991-01-01 00:00:00',\n",
       " '1984-01-01 00:00:00', '1963-01-01 00:00:00']\n",
       "Length: 35, dtype: datetime64[ns]"
      ]
     },
     "execution_count": 66,
     "metadata": {},
     "output_type": "execute_result"
    }
   ],
   "source": [
    "# Check unique values to ensure conversion\n",
    "df_combined['Year'].unique()"
   ]
  },
  {
   "cell_type": "code",
   "execution_count": 67,
   "metadata": {},
   "outputs": [],
   "source": [
    "# Handle missing values by filling with the median year\n",
    "# Calculate the median year as an integer\n",
    "\n",
    "median_year = int(df_combined['Year'].dropna().dt.year.median())\n"
   ]
  },
  {
   "cell_type": "code",
   "execution_count": 68,
   "metadata": {},
   "outputs": [],
   "source": [
    "# Fill missing values with the median year\n",
    "\n",
    "df_combined['Year'] = df_combined['Year'].fillna(pd.Timestamp(median_year, 1, 1))\n"
   ]
  },
  {
   "cell_type": "code",
   "execution_count": 69,
   "metadata": {},
   "outputs": [],
   "source": [
    "# Ensure the 'Year' column is in datetime format\n",
    "\n",
    "df_combined['Year'] = pd.to_datetime(df_combined['Year'], format='%Y', errors='coerce')"
   ]
  },
  {
   "cell_type": "code",
   "execution_count": 70,
   "metadata": {},
   "outputs": [
    {
     "name": "stdout",
     "output_type": "stream",
     "text": [
      "<class 'pandas.core.frame.DataFrame'>\n",
      "RangeIndex: 2879 entries, 0 to 2878\n",
      "Data columns (total 10 columns):\n",
      " #   Column         Non-Null Count  Dtype         \n",
      "---  ------         --------------  -----         \n",
      " 0   Year           2879 non-null   datetime64[ns]\n",
      " 1   HeadQuarter    2765 non-null   object        \n",
      " 2   Sector         2861 non-null   object        \n",
      " 3   Founders       2334 non-null   object        \n",
      " 4   Investor       2253 non-null   object        \n",
      " 5   Stage          1941 non-null   object        \n",
      " 6   column10       2 non-null      object        \n",
      " 7   Company_Brand  2879 non-null   object        \n",
      " 8   What_it_does   2879 non-null   object        \n",
      " 9   Amount         2879 non-null   float64       \n",
      "dtypes: datetime64[ns](1), float64(1), object(8)\n",
      "memory usage: 225.1+ KB\n"
     ]
    }
   ],
   "source": [
    "# Check the DataFrame info to ensure proper conversion and filling\n",
    "\n",
    "df_combined.info()"
   ]
  },
  {
   "cell_type": "markdown",
   "metadata": {},
   "source": [
    "HEADQUARTER"
   ]
  },
  {
   "cell_type": "code",
   "execution_count": 71,
   "metadata": {},
   "outputs": [
    {
     "data": {
      "text/plain": [
       "array(['Chennai', 'Bangalore', 'Pune', 'New Delhi', 'Indore', 'Hyderabad',\n",
       "       'Gurgaon', 'Belgaum', 'Noida', 'Mumbai', 'Andheri', 'Jaipur',\n",
       "       'Ahmedabad', 'Kolkata', 'Tirunelveli, Tamilnadu', 'Thane', None,\n",
       "       'Singapore', 'Gurugram', 'Gujarat', 'Haryana', 'Kerala', 'Jodhpur',\n",
       "       'Jaipur, Rajastan', 'Delhi', 'Frisco, Texas, United States',\n",
       "       'California', 'Dhingsara, Haryana', 'New York, United States',\n",
       "       'Patna', 'San Francisco, California, United States',\n",
       "       'San Francisco, United States', 'San Ramon, California',\n",
       "       'Paris, Ile-de-France, France', 'Plano, Texas, United States',\n",
       "       'Sydney', 'San Francisco Bay Area, Silicon Valley, West Coast',\n",
       "       'Bangaldesh', 'London, England, United Kingdom',\n",
       "       'Sydney, New South Wales, Australia', 'Milano, Lombardia, Italy',\n",
       "       'Palmwoods, Queensland, Australia', 'France',\n",
       "       'San Francisco Bay Area, West Coast, Western US',\n",
       "       'Trivandrum, Kerala, India', 'Cochin', 'Samastipur, Bihar',\n",
       "       'Irvine, California, United States', 'Tumkur, Karnataka',\n",
       "       'Newcastle Upon Tyne, Newcastle upon Tyne, United Kingdom',\n",
       "       'Shanghai, China', 'Jiaxing, Zhejiang, China', 'Rajastan', 'Kochi',\n",
       "       'Ludhiana', 'Dehradun', 'San Franciscao', 'San Francisco',\n",
       "       'Tangerang, Jawa Barat, Indonesia', 'Berlin', 'Seattle', 'Riyadh',\n",
       "       'Seoul', 'New York', 'Bangkok', 'Kanpur', 'Chandigarh', 'Warangal',\n",
       "       'Hyderebad', 'Odisha', 'Bihar', 'Goa', 'Tamil Nadu',\n",
       "       'Uttar Pradesh', 'Bhopal', 'Banglore', 'Coimbatore', 'Bengaluru',\n",
       "       'Ahmadabad', 'Small Towns, Andhra Pradesh', 'Rajsamand', 'Ranchi',\n",
       "       'Faridabad, Haryana', 'Computer Games', 'Vadodara',\n",
       "       'Food & Beverages', 'Pharmaceuticals\\t#REF!', 'Gurugram\\t#REF!',\n",
       "       'Mohali', 'Powai', 'Ghaziabad', 'Nagpur', 'West Bengal',\n",
       "       'Samsitpur', 'Lucknow', 'Telangana', 'Silvassa',\n",
       "       'Thiruvananthapuram', 'Faridabad', 'Roorkee', 'Ambernath',\n",
       "       'Panchkula', 'Surat', 'Mangalore', 'Telugana', 'Bhubaneswar',\n",
       "       'Kottayam', 'Beijing', 'Panaji', 'Satara', 'Orissia', 'Santra',\n",
       "       'Mountain View, CA', 'Trivandrum', 'Jharkhand', 'Bhilwara',\n",
       "       'Guwahati', 'Online Media\\t#REF!', 'London',\n",
       "       'Information Technology & Services', 'The Nilgiris', 'Gandhinagar',\n",
       "       nan, 'Uttar pradesh', 'Rajasthan', 'Bangalore, Karnataka, India',\n",
       "       'Mumbai, Maharashtra, India', 'Gurgaon, Haryana, India',\n",
       "       'Noida, Uttar Pradesh, India', 'Hyderabad, Andhra Pradesh, India',\n",
       "       'Bengaluru, Karnataka, India', 'Kalkaji, Delhi, India',\n",
       "       'Delhi, Delhi, India', 'India, Asia', 'Hubli, Karnataka, India',\n",
       "       'New Delhi, Delhi, India', 'Chennai, Tamil Nadu, India',\n",
       "       'Mohali, Punjab, India', 'Kolkata, West Bengal, India',\n",
       "       'Pune, Maharashtra, India', 'Jodhpur, Rajasthan, India',\n",
       "       'Kanpur, Uttar Pradesh, India', 'Ahmedabad, Gujarat, India',\n",
       "       'Azadpur, Delhi, India', 'Haryana, Haryana, India',\n",
       "       'Cochin, Kerala, India', 'Faridabad, Haryana, India',\n",
       "       'Jaipur, Rajasthan, India', 'Kota, Rajasthan, India',\n",
       "       'Anand, Gujarat, India', 'Bangalore City, Karnataka, India',\n",
       "       'Belgaum, Karnataka, India', 'Thane, Maharashtra, India',\n",
       "       'Margão, Goa, India', 'Indore, Madhya Pradesh, India',\n",
       "       'Alwar, Rajasthan, India', 'Kannur, Kerala, India',\n",
       "       'Ernakulam, Kerala, India', 'Kormangala, Karnataka, India',\n",
       "       'Uttar Pradesh, India, Asia', 'Andheri, Maharashtra, India',\n",
       "       'Mylapore, Tamil Nadu, India', 'Ghaziabad, Uttar Pradesh, India',\n",
       "       'Kochi, Kerala, India', 'Powai, Assam, India',\n",
       "       'Guntur, Andhra Pradesh, India', 'Kalpakkam, Tamil Nadu, India',\n",
       "       'Bhopal, Madhya Pradesh, India', 'Coimbatore, Tamil Nadu, India',\n",
       "       'Worli, Maharashtra, India', 'Alleppey, Kerala, India',\n",
       "       'Chandigarh, Chandigarh, India', 'Guindy, Tamil Nadu, India',\n",
       "       'Lucknow, Uttar Pradesh, India'], dtype=object)"
      ]
     },
     "execution_count": 71,
     "metadata": {},
     "output_type": "execute_result"
    }
   ],
   "source": [
    "df_combined['HeadQuarter'].unique()"
   ]
  },
  {
   "cell_type": "code",
   "execution_count": 72,
   "metadata": {},
   "outputs": [],
   "source": [
    "# Replace anomalies and correct known errors\n",
    "df_combined['HeadQuarter'] = df_combined['HeadQuarter'].replace({\n",
    "    '\\t#REF!': '',\n",
    "    'Pharmaceuticals\\t#REF!': 'Pharmaceuticals',\n",
    "    'Gurugram\\t#REF!': 'Gurugram',\n",
    "    'Telugana': 'Telangana',\n",
    "    'Orissia': 'Odisha',\n",
    "    'Small Towns, Andhra Pradesh': 'Andhra Pradesh',\n",
    "    'Bangalore': 'Bengaluru',\n",
    "    'Gurgaon': 'Gurugram',\n",
    "    'Pune, Maharashtra, India': 'Pune',\n",
    "    'Hyderabad, Andhra Pradesh, India': 'Hyderabad',\n",
    "    'Bangalore, Karnataka, India': 'Bengaluru',\n",
    "    'Mumbai, Maharashtra, India': 'Mumbai',\n",
    "    'Noida, Uttar Pradesh, India': 'Noida',\n",
    "    'Chennai, Tamil Nadu, India': 'Chennai',\n",
    "    'New Delhi, Delhi, India': 'New Delhi',\n",
    "    'Delhi, Delhi, India': 'Delhi',\n",
    "    'Haryana, Haryana, India': 'Haryana',\n",
    "    'Cochin, Kerala, India': 'Cochin',\n",
    "    'Jaipur, Rajasthan, India': 'Jaipur',\n",
    "    'Kolkata, West Bengal, India': 'Kolkata',\n",
    "    'Powai, Assam, India': 'Powai',\n",
    "    'Ghaziabad, Uttar Pradesh, India': 'Ghaziabad',\n",
    "    'Mylapore, Tamil Nadu, India': 'Mylapore',\n",
    "    'Lucknow, Uttar Pradesh, India': 'Lucknow'\n",
    "})"
   ]
  },
  {
   "cell_type": "code",
   "execution_count": 73,
   "metadata": {},
   "outputs": [],
   "source": [
    "# Step 2: Remove anomalies and whitespace\n",
    "df_combined['HeadQuarter'] = df_combined['HeadQuarter'].str.replace(r'\\t#REF!', '', regex=True).str.strip()\n"
   ]
  },
  {
   "cell_type": "code",
   "execution_count": 74,
   "metadata": {},
   "outputs": [],
   "source": [
    "# Step 3: Standardize city and state/country names\n",
    "# Create a mapping dictionary for standardizing names\n",
    "standard_city_names = {\n",
    "    'Mumbai': 'Mumbai',\n",
    "    'Bengaluru': 'Bengaluru',\n",
    "    'Hyderabad': 'Hyderabad',\n",
    "    'Chennai': 'Chennai',\n",
    "    'Pune': 'Pune',\n",
    "    'Noida': 'Noida',\n",
    "    'New Delhi': 'New Delhi',\n",
    "    'Delhi': 'Delhi',\n",
    "    'Gurugram': 'Gurugram',\n",
    "    'Gurgaon': 'Gurugram',\n",
    "    'Kolkata': 'Kolkata',\n",
    "    'Rajasthan': 'Rajasthan',  \n",
    "    'Odisha': 'Odisha',  \n",
    "    'Goa': 'Goa',  \n",
    "    'Gujarat': 'Gujarat',  \n",
    "    'West Bengal': 'West Bengal',  \n",
    "    'Jharkhand': 'Jharkhand',  \n",
    "    'Uttar Pradesh': 'Uttar Pradesh',  \n",
    "    'Haryana': 'Haryana',  \n",
    "    'Madhya Pradesh': 'Madhya Pradesh',  \n",
    "    'Kerala': 'Kerala',  \n",
    "    'Punjab': 'Punjab',  \n",
    "    'Andhra Pradesh': 'Andhra Pradesh'\n",
    "}"
   ]
  },
  {
   "cell_type": "code",
   "execution_count": 75,
   "metadata": {},
   "outputs": [],
   "source": [
    "# Apply the standardization\n",
    "df_combined['HeadQuarter'] = df_combined['HeadQuarter'].replace(standard_city_names)"
   ]
  },
  {
   "cell_type": "code",
   "execution_count": 76,
   "metadata": {},
   "outputs": [],
   "source": [
    "# Step 4: Handle missing values\n",
    "# For this example, let's fill missing values with 'Unknown'\n",
    "\n",
    "df_combined['HeadQuarter'].fillna('Unknown', inplace=True)"
   ]
  },
  {
   "cell_type": "code",
   "execution_count": 77,
   "metadata": {},
   "outputs": [
    {
     "name": "stdout",
     "output_type": "stream",
     "text": [
      "['Chennai' 'Bengaluru' 'Pune' 'New Delhi' 'Indore' 'Hyderabad' 'Gurugram'\n",
      " 'Belgaum' 'Noida' 'Mumbai' 'Andheri' 'Jaipur' 'Ahmedabad' 'Kolkata'\n",
      " 'Tirunelveli, Tamilnadu' 'Thane' 'Unknown' 'Singapore' 'Gujarat'\n",
      " 'Haryana' 'Kerala' 'Jodhpur' 'Jaipur, Rajastan' 'Delhi'\n",
      " 'Frisco, Texas, United States' 'California' 'Dhingsara, Haryana'\n",
      " 'New York, United States' 'Patna'\n",
      " 'San Francisco, California, United States' 'San Francisco, United States'\n",
      " 'San Ramon, California' 'Paris, Ile-de-France, France'\n",
      " 'Plano, Texas, United States' 'Sydney'\n",
      " 'San Francisco Bay Area, Silicon Valley, West Coast' 'Bangaldesh'\n",
      " 'London, England, United Kingdom' 'Sydney, New South Wales, Australia'\n",
      " 'Milano, Lombardia, Italy' 'Palmwoods, Queensland, Australia' 'France'\n",
      " 'San Francisco Bay Area, West Coast, Western US'\n",
      " 'Trivandrum, Kerala, India' 'Cochin' 'Samastipur, Bihar'\n",
      " 'Irvine, California, United States' 'Tumkur, Karnataka'\n",
      " 'Newcastle Upon Tyne, Newcastle upon Tyne, United Kingdom'\n",
      " 'Shanghai, China' 'Jiaxing, Zhejiang, China' 'Rajastan' 'Kochi'\n",
      " 'Ludhiana' 'Dehradun' 'San Franciscao' 'San Francisco'\n",
      " 'Tangerang, Jawa Barat, Indonesia' 'Berlin' 'Seattle' 'Riyadh' 'Seoul'\n",
      " 'New York' 'Bangkok' 'Kanpur' 'Chandigarh' 'Warangal' 'Hyderebad'\n",
      " 'Odisha' 'Bihar' 'Goa' 'Tamil Nadu' 'Uttar Pradesh' 'Bhopal' 'Banglore'\n",
      " 'Coimbatore' 'Ahmadabad' 'Andhra\\xa0Pradesh' 'Rajsamand' 'Ranchi'\n",
      " 'Faridabad, Haryana' 'Computer Games' 'Vadodara' 'Food & Beverages'\n",
      " 'Pharmaceuticals' 'Mohali' 'Powai' 'Ghaziabad' 'Nagpur' 'West Bengal'\n",
      " 'Samsitpur' 'Lucknow' 'Telangana' 'Silvassa' 'Thiruvananthapuram'\n",
      " 'Faridabad' 'Roorkee' 'Ambernath' 'Panchkula' 'Surat' 'Mangalore'\n",
      " 'Bhubaneswar' 'Kottayam' 'Beijing' 'Panaji' 'Satara' 'Santra'\n",
      " 'Mountain View, CA' 'Trivandrum' 'Jharkhand' 'Bhilwara' 'Guwahati'\n",
      " 'Online Media' 'London' 'Information Technology & Services'\n",
      " 'The Nilgiris' 'Gandhinagar' 'Uttar pradesh' 'Rajasthan'\n",
      " 'Gurgaon, Haryana, India' 'Bengaluru, Karnataka, India'\n",
      " 'Kalkaji, Delhi, India' 'India, Asia' 'Hubli, Karnataka, India'\n",
      " 'Mohali, Punjab, India' 'Jodhpur, Rajasthan, India'\n",
      " 'Kanpur, Uttar Pradesh, India' 'Ahmedabad, Gujarat, India'\n",
      " 'Azadpur, Delhi, India' 'Faridabad, Haryana, India'\n",
      " 'Kota, Rajasthan, India' 'Anand, Gujarat, India'\n",
      " 'Bangalore City, Karnataka, India' 'Belgaum, Karnataka, India'\n",
      " 'Thane, Maharashtra, India' 'Margão, Goa, India'\n",
      " 'Indore, Madhya Pradesh, India' 'Alwar, Rajasthan, India'\n",
      " 'Kannur, Kerala, India' 'Ernakulam, Kerala, India'\n",
      " 'Kormangala, Karnataka, India' 'Uttar Pradesh, India, Asia'\n",
      " 'Andheri, Maharashtra, India' 'Mylapore' 'Kochi, Kerala, India'\n",
      " 'Guntur, Andhra Pradesh, India' 'Kalpakkam, Tamil Nadu, India'\n",
      " 'Bhopal, Madhya Pradesh, India' 'Coimbatore, Tamil Nadu, India'\n",
      " 'Worli, Maharashtra, India' 'Alleppey, Kerala, India'\n",
      " 'Chandigarh, Chandigarh, India' 'Guindy, Tamil Nadu, India']\n"
     ]
    }
   ],
   "source": [
    "# Check the cleaned HeadQuarter column\n",
    "print(df_combined['HeadQuarter'].unique())\n"
   ]
  },
  {
   "cell_type": "code",
   "execution_count": 78,
   "metadata": {},
   "outputs": [
    {
     "name": "stdout",
     "output_type": "stream",
     "text": [
      "<class 'pandas.core.frame.DataFrame'>\n",
      "RangeIndex: 2879 entries, 0 to 2878\n",
      "Data columns (total 10 columns):\n",
      " #   Column         Non-Null Count  Dtype         \n",
      "---  ------         --------------  -----         \n",
      " 0   Year           2879 non-null   datetime64[ns]\n",
      " 1   HeadQuarter    2879 non-null   object        \n",
      " 2   Sector         2861 non-null   object        \n",
      " 3   Founders       2334 non-null   object        \n",
      " 4   Investor       2253 non-null   object        \n",
      " 5   Stage          1941 non-null   object        \n",
      " 6   column10       2 non-null      object        \n",
      " 7   Company_Brand  2879 non-null   object        \n",
      " 8   What_it_does   2879 non-null   object        \n",
      " 9   Amount         2879 non-null   float64       \n",
      "dtypes: datetime64[ns](1), float64(1), object(8)\n",
      "memory usage: 225.1+ KB\n"
     ]
    }
   ],
   "source": [
    "# Ensure proper conversion and filling\n",
    "\n",
    "df_combined.info()"
   ]
  },
  {
   "cell_type": "markdown",
   "metadata": {},
   "source": [
    "SECTOR"
   ]
  },
  {
   "cell_type": "code",
   "execution_count": 79,
   "metadata": {},
   "outputs": [
    {
     "data": {
      "text/plain": [
       "array(['AgriTech', 'EdTech', 'Hygiene management', 'Escrow',\n",
       "       'Networking platform', 'FinTech', 'Crowdsourcing',\n",
       "       'Food & Bevarages', 'HealthTech', 'Fashion startup',\n",
       "       'Food Industry', 'Food Delivery', 'Virtual auditing startup',\n",
       "       'E-commerce', 'Gaming', 'Work fulfillment', 'AI startup',\n",
       "       'Telecommunication', 'Logistics', 'Tech Startup', 'Sports',\n",
       "       'Retail', 'Medtech', 'Tyre management', 'Cloud company',\n",
       "       'Software company', 'Venture capitalist', 'Renewable player',\n",
       "       'IoT startup', 'SaaS startup', 'Aero company', 'Marketing company',\n",
       "       'Retail startup', 'Co-working Startup', 'Finance company',\n",
       "       'Tech company', 'Solar Monitoring Company',\n",
       "       'Video sharing platform', 'Gaming startup',\n",
       "       'Video streaming platform', 'Consumer appliances',\n",
       "       'Blockchain startup', 'Conversational AI platform', 'Real Estate',\n",
       "       'SaaS platform', 'AI platform', 'Fusion beverages', 'HR Tech',\n",
       "       'Job portal', 'Hospitality', 'Digital Media', 'Dairy startup',\n",
       "       'Content management', 'Spacetech', 'Transportation',\n",
       "       'Trading platform', 'AI Company', 'Photonics startup',\n",
       "       'Entertainment', 'Cosmetics', 'Scanning app', 'Skincare startup',\n",
       "       'Food and Beverages', 'Biotechnology company', 'FoodTech',\n",
       "       'Proptech', 'CleanTech', 'Fitness startup', 'Healthcare',\n",
       "       'PaaS startup', 'Beverages', 'Social Media', 'Automobiles',\n",
       "       'Deeptech', 'EV startup', 'AR/VR startup', 'Recruitment startup',\n",
       "       'QSR startup', 'Video platform', 'Edtech', 'Fertility tech',\n",
       "       'Luxury car startup', 'FM', 'Food', 'Nutrition sector',\n",
       "       'Tech platform', 'Video', 'Retail Tech', 'HeathTech',\n",
       "       'Sles and marketing', 'LegalTech', 'Car Service',\n",
       "       'Bike marketplace', 'Agri tech', 'Reatil startup', 'AR platform',\n",
       "       'Consumer Goods', 'Content marketplace', 'Interior Design',\n",
       "       'Rental space', 'Soil-Tech', 'Ayurveda tech',\n",
       "       'Packaging solution startup', 'Cleantech', 'Sanitation solutions',\n",
       "       'HealthCare', 'Home Design', 'InsureTech', 'AI Startup',\n",
       "       'Solar solution', 'Jewellery startup',\n",
       "       'Multinational conglomerate company', 'Deeptech startup',\n",
       "       'Social Network', 'Publication', 'Tech', 'Fashion', 'Finance',\n",
       "       'Venture capital', 'Entreprenurship', 'Food devlivery',\n",
       "       'Warehouse', 'Online financial service', 'Eyeglasses',\n",
       "       'Battery design', 'Online credit management startup', 'Beverage',\n",
       "       'TravelTech', 'Agriculture', 'Startup laboratory',\n",
       "       'Personal care startup', 'Customer service company',\n",
       "       'SaaS\\xa0\\xa0startup', 'Marketing startup', 'Service industry',\n",
       "       'Social media', 'AI', 'Jewellery', 'AR startup', 'HR Tech startup',\n",
       "       'Automotive Startup', 'Food Startup', 'EdTech Startup',\n",
       "       'Car Trade', 'EdtTech', 'Manufacturing', 'AI Platform',\n",
       "       'Automation', 'Solar SaaS', 'WL & RAC protection',\n",
       "       'Social commerce', 'Home interior services', 'Agritech startup',\n",
       "       'API platform', 'Deep Tech', 'Electricity', 'Automotive company',\n",
       "       'FMCG', 'Insurance Tech', 'Video personalization',\n",
       "       'Software Company', 'Biomaterial startup', 'Health', 'IT',\n",
       "       'Craft Beer', 'Healthtech', 'Education', 'Investment',\n",
       "       'Linguistic Spiritual', 'Construction', 'Battery manufacturer',\n",
       "       'Nano Distribution Network', 'AI health', 'Dating app', 'Media',\n",
       "       'Fintech', 'Healthcare/Edtech', 'Social Commerce',\n",
       "       'Agritech/Commerce', 'Mobility tech', 'Social e-commerce',\n",
       "       'Food & Logistics', 'SpaceTech', 'Nutrition Tech', 'HR', 'IoT',\n",
       "       None, 'Agritech', 'Interior design', 'Foodtech', 'AR/VR',\n",
       "       'Appliance', 'HR tech', 'Food tech', 'Mental Health', 'Ecommerce',\n",
       "       'Solar Solution', 'SaaS', 'Automobile', 'B2B marketplace',\n",
       "       'Fashion Tech', 'Nutrition tech', 'Health & Wellness',\n",
       "       'Cloud Kitchen', 'IoT/Automobile', 'Eye Wear', 'Digital tech',\n",
       "       'Data Intelligence', 'Co-living', 'Food & Beverages', 'Automotive',\n",
       "       'B2B', 'Defense tech', 'Marketplace', 'Construction tech',\n",
       "       'Nutrition', 'Coworking', 'Micro-mobiity', 'Auto-tech', 'Beauty',\n",
       "       'Robotics', 'Yoga & wellness', 'Logitech', 'Med Tech',\n",
       "       'Life sciences', 'Retail Aggregator', 'Deep Tech AI', 'Biotech',\n",
       "       'Blockchain', 'HrTech', 'Mobility/Transport', 'Travel', 'Rental',\n",
       "       'AI & Debt', 'SaaS/Edtech', 'Transport', 'Co-working', 'Insurtech',\n",
       "       'Cryptocurrency', 'Automotive tech', 'Legal', 'Fitness', 'EV',\n",
       "       'Supply chain, Agritech', 'Pharma', 'Insurance technology',\n",
       "       'Foodtech & Logistics', 'Housing', 'Pharmaceutical',\n",
       "       'Data Analytics', 'Investment Tech', 'Financial Services',\n",
       "       'Biopharma', 'Dairy', 'Beauty & wellness', 'Travel & SaaS',\n",
       "       'Tourism & EV', 'Media Tech', 'Location Analytics', 'E store',\n",
       "       'Data Science', 'Insurance', 'Health and Fitness', 'Technology',\n",
       "       'Interior & decor', 'eMobility', 'Automation tech',\n",
       "       'Media & Networking', 'E-market', 'AI & Data science',\n",
       "       'Travel tech', 'Automotive and Rentals', 'E-tail', 'Accomodation',\n",
       "       'AI & Media', 'Machine Learning', 'Content Marktplace',\n",
       "       'Visual Media', 'Hygiene', 'VR & SaaS', 'Sales & Services',\n",
       "       'AI & Deep learning', 'Housing & Rentals', 'Estore', 'Marketing',\n",
       "       'E tailor', 'E-mobility', 'Ad-tech', 'Neo-banking',\n",
       "       'Transport Automation', 'Techonology', 'Transport & Rentals',\n",
       "       'AI Robotics', 'Preschool Daycare', 'Food diet', 'B2B Agritech',\n",
       "       'E-connect', 'Tech hub', 'Consultancy', 'Pharmacy', 'Deisgning',\n",
       "       'Taxation', 'Automobile Technology', 'B2B E-commerce',\n",
       "       'Home services', 'B2B service', 'Helathcare', 'Renewable Energy',\n",
       "       'Electronics', 'IT startup', 'Aeorspace', 'Dating',\n",
       "       'Oil and Energy', 'Telecommuncation', 'Milk startup', 'AI Chatbot',\n",
       "       'Food delivery', 'Fantasy sports', 'Video communication',\n",
       "       'Skill development', 'Recruitment', 'Computer Games',\n",
       "       'Information Technology', 'Apparel & Fashion',\n",
       "       'Logistics & Supply Chain', 'SportsTech', 'HRTech',\n",
       "       'Wine & Spirits', 'Mechanical & Industrial Engineering',\n",
       "       'Spiritual', 'Industrial Automation', 'Lifestyle', 'Banking',\n",
       "       'Computer software', 'Tech startup', 'Digital mortgage',\n",
       "       'Information Technology & Services', 'Furniture', 'Healtcare',\n",
       "       'Consumer Electronics', 'Tobacco', 'Insuretech', 'MLOps platform',\n",
       "       'Venture Capital', 'Pet care', 'Drone', 'Wholesale', 'E-learning',\n",
       "       'Consumer Services', 'Venture Capital & Private Equity',\n",
       "       'Health, Wellness & Fitness', 'OTT', 'Education Management',\n",
       "       'Computer Software', 'Software Startup',\n",
       "       'Computer & Network Security', 'Capital Markets', 'Social network',\n",
       "       'Hospital & Health Care', 'Music', 'Hauz Khas',\n",
       "       'Primary Business is Development and Manufacturing of Novel Healthcare Products in Effervescent forms using imported propriety ingredients.',\n",
       "       \"MoEVing is India's only Electric Mobility focused Technology Platform with a vision to accelerate EV adoption in India.\",\n",
       "       'Mobility', 'Digital platform', 'B2B Ecommerce', 'Online Media',\n",
       "       'Mobile Games', 'Food Production', 'Podcast', 'Battery',\n",
       "       'Content publishing', 'Water purification', 'Content commerce',\n",
       "       'Innovation Management', 'Celebrity Engagement', 'Personal Care',\n",
       "       'Cannabis startup', 'Blogging', 'Consulting', 'BioTechnology',\n",
       "       'B2B Marketplace', 'Health care', 'Social audio',\n",
       "       'Fashion and lifestyle', 'Delivery service', 'B2B Manufacturing',\n",
       "       'Home Decor', 'Solar', 'TaaS startup', 'Manufacturing startup',\n",
       "       'Vehicle repair startup', 'Advisory firm', 'Legaltech',\n",
       "       'Pollution control equiptment', 'Fashion & Lifestyle', 'D2C',\n",
       "       'Environmental Services', 'Merchandise', 'Facilities Services',\n",
       "       'Marketing & Advertising', 'Human Resources', 'Eyewear',\n",
       "       'D2C Business', 'Biotechnology', 'Farming', 'NFT Marketplace',\n",
       "       'Internet', 'Consumer software', 'Social community', 'Fishery',\n",
       "       'Renewables & Environment', 'Online storytelling', 'Aviation',\n",
       "       'IT company', 'Environmental service', 'Job discovery platform',\n",
       "       'D2C Fashion', 'Heathcare', 'CRM', 'Software', 'D2C startup',\n",
       "       'Innovation management', 'Community platform', 'Networking',\n",
       "       'Commercial Real Estate', 'Consumer service', 'Consumer goods',\n",
       "       'MarTech', 'Advertisement', 'Content creation',\n",
       "       'Augmented reality', 'Bike Rental', 'Beauty products', 'Tourism',\n",
       "       'FemTech', 'Cultural', 'Supply chain platform', 'Social platform',\n",
       "       'Real estate', 'AI company', 'Sports startup', 'Matrimony',\n",
       "       'Crypto', 'Clothing', 'Analytics', 'IoT platform', 'Commerce',\n",
       "       'Defense & Space', 'Business Supplies & Equipment', 'NFT',\n",
       "       'Oil & Energy', 'Company-as-a-Service', 'Textiles',\n",
       "       'Professional Training & Coaching', 'Maritime',\n",
       "       'Housing Marketplace', 'Furniture Rental', 'Telecommunications',\n",
       "       'Equity Management', 'Cloud kitchen', 'Nanotechnology',\n",
       "       'Community', 'Higher Education',\n",
       "       'Mechanical Or Industrial Engineering', 'D2C jewellery',\n",
       "       'Sales and Distribution', 'Information Services',\n",
       "       'Translation & Localization', 'Investment Banking', 'Femtech',\n",
       "       'sports', 'Foootwear', 'Legal Services', 'Veterinary',\n",
       "       'Arts & Crafts', 'Investment Management', 'Management Consulting',\n",
       "       'B2B startup',\n",
       "       'Sochcast is an Audio experiences company that give the listener and creators an Immersive Audio experience',\n",
       "       'Design', 'B2B Travel', 'Manchester, Greater Manchester',\n",
       "       'Product studio', 'Aviation & Aerospace', 'Staffing & Recruiting',\n",
       "       'AI & Tech', 'E-commerce & AR', 'Safety tech', 'E-marketplace',\n",
       "       'Robotics & AI', 'Food & Nutrition', nan, 'E-Sports',\n",
       "       'B2B Supply Chain', 'Games', 'Food & tech', 'Legal tech',\n",
       "       'Mutual Funds', 'Cybersecurity', 'Virtual Banking',\n",
       "       'Marketing & Customer loyalty', 'Infratech',\n",
       "       'Automobile & Technology',\n",
       "       'Brand Marketing, Event Promotion, Marketing, Sponsorship, Ticketing',\n",
       "       'Agriculture, Farming',\n",
       "       'Credit, Financial Services, Lending, Marketplace',\n",
       "       'Financial Services, FinTech',\n",
       "       'E-Commerce Platforms, Retail, SaaS',\n",
       "       'Cloud Infrastructure, PaaS, SaaS',\n",
       "       'Internet, Leisure, Marketplace', 'Market Research',\n",
       "       'Information Services, Information Technology', 'Mobile Payments',\n",
       "       'B2B, Shoes',\n",
       "       'Apps, Collaboration, Developer Platform, Enterprise Software, Messaging, Productivity Tools, Video Chat',\n",
       "       'Automotive, Search Engine, Service Industry',\n",
       "       'Finance, Internet, Travel',\n",
       "       'Accounting, Business Information Systems, Business Travel, Finance, SaaS',\n",
       "       'Artificial Intelligence, Product Search, SaaS, Service Industry, Software',\n",
       "       'Internet of Things, Waste Management',\n",
       "       'Air Transportation, Freight Service, Logistics, Marine Transportation',\n",
       "       'Food and Beverage', 'Autonomous Vehicles',\n",
       "       'Enterprise Software, Health Care, Hospital, Parenting, Personal Health, SaaS',\n",
       "       'Agriculture, Analytics, Big Data, Farming',\n",
       "       'Logistics, Supply Chain Management',\n",
       "       'Financial Services, Lending',\n",
       "       'Automotive, Marketplace, Online Portals',\n",
       "       'Artificial Intelligence',\n",
       "       'Internet of Things, Telecommunications',\n",
       "       'Information Technology, Logistics, Supply Chain Management',\n",
       "       'Blockchain, Developer Tools, Enterprise Software',\n",
       "       'Industrial Automation, Logistics, Supply Chain Management',\n",
       "       'Food and Beverage, Food Delivery, Snack Food',\n",
       "       'E-Commerce, Fashion, Jewelry, Retail', 'E-Learning, Education',\n",
       "       'Clean Energy, CleanTech, Laundry and Dry-cleaning',\n",
       "       'E-Commerce, Fashion, Mobile',\n",
       "       'Apps, Messaging, Navigation, Public Safety',\n",
       "       'Fitness, Health Care, Wellness',\n",
       "       'Artificial Intelligence, Machine Learning, SaaS, Virtual Assistant',\n",
       "       'Food and Beverage, Tea',\n",
       "       'Media and Entertainment, News, Outdoors',\n",
       "       'Broadcasting, Media and Entertainment, Music, Music Streaming, Video, Video Streaming',\n",
       "       'B2B, Information Services, Information Technology',\n",
       "       'EdTech, Education, Enterprise Software, Peer to Peer',\n",
       "       'Health Care, Medical', 'E-Commerce',\n",
       "       'Health Care, Hospital, Wellness', '—',\n",
       "       'Big Data, Consumer Lending, FinTech',\n",
       "       'Cloud Computing, Computer, Semiconductor',\n",
       "       'Health Care, Medical, Pharmaceutical', 'Food Processing, Retail',\n",
       "       'Trading Platform', \"Consumer Goods, Lifestyle, Men's\", 'Wellness',\n",
       "       'Food and Beverage, Food Processing, Nutrition',\n",
       "       'Automotive, Electric Vehicle, Energy Storage',\n",
       "       'Consulting, Retail, Social',\n",
       "       'Biotechnology, Life Science, Pharmaceutical, Product Research',\n",
       "       'Health Care',\n",
       "       'Credit, Financial Services, FinTech, Personal Finance',\n",
       "       'Communities, Coworking, Incubators',\n",
       "       'Consumer, Financial Services, FinTech',\n",
       "       'Consumer Applications, Information Services, Location Based Services, Virtual Assistant',\n",
       "       'Mobile, Mobile Apps, Personalization, Test and Measurement, Web Apps',\n",
       "       'Education, Financial Services, FinTech',\n",
       "       'Advertising, Consulting, Digital Marketing',\n",
       "       'Marketplace, Real Estate, Rental Property',\n",
       "       'E-Learning, Internet, Video Games',\n",
       "       'Artificial Intelligence, Cloud Computing, Video',\n",
       "       'Health Care, Information Technology', 'Aerospace',\n",
       "       'E-Commerce, Fashion, Lifestyle',\n",
       "       'Artificial Intelligence, Business Intelligence, Industrial Automation, Machine Learning',\n",
       "       'Home Decor, Home Improvement, Home Renovation, Home Services, Interior Design, Smart Home',\n",
       "       'EdTech, Education, Information Services, SaaS', 'Energy, Solar',\n",
       "       'B2B, Biometrics, Cyber Security, Fraud Detection, SaaS, Security',\n",
       "       'Artificial Intelligence, Social',\n",
       "       'Logistics, Transportation, Travel',\n",
       "       'Digital Marketing, SEM, SEO, Web Development',\n",
       "       'Health Care, Hospital, Medical', 'Finance, Financial Services',\n",
       "       'Food Delivery, Food Processing, Internet',\n",
       "       'E-Commerce, Food and Beverage, Internet',\n",
       "       'Fitness, Food and Beverage, Health Care, Nutrition',\n",
       "       'EdTech, Education, Knowledge Management',\n",
       "       'Apps, Beauty, Consumer, Retail',\n",
       "       'Creative Agency, Crowdfunding, EdTech, Health Care, Internet, Medical, Non Profit, Personal Health',\n",
       "       'Consumer Lending, Financial Services, FinTech, Insurance, Lending, Mobile Payments, Payments, Wealth Management',\n",
       "       'E-Learning, Education, Higher Education', 'Health Diagnostics',\n",
       "       'EdTech, Education', 'Financial Services, SaaS, Security',\n",
       "       'Banking, Finance, Financial Services, Non Profit',\n",
       "       'B2B, E-Commerce, Mobile',\n",
       "       'Automotive, Electric Vehicle, Renewable Energy', 'E-Learning',\n",
       "       'Embedded Systems, Health Care, Medical, Product Research',\n",
       "       'Apps, E-Commerce, Internet',\n",
       "       'Advertising, Human Resources, Marketing',\n",
       "       'Beauty, Fitness, Home Services, Internet',\n",
       "       'Health Care, Medical Device, Public Safety',\n",
       "       'Food Delivery, Online Portals, Restaurants',\n",
       "       'AgTech, B2B, Supply Chain Management',\n",
       "       'Credit Cards, Finance, Mobile Apps, Mobile Payments, Payments',\n",
       "       'EdTech, Education, Higher Education, Secondary Education',\n",
       "       'Manufacturing, Retail',\n",
       "       'Information Services, Information Technology, InsurTech',\n",
       "       'Consumer Lending, FinTech', 'Internet, Social Network, TV',\n",
       "       'Beauty, Health Care', 'Hospital', 'Events',\n",
       "       '3D Printing, Manufacturing, Product Design', 'Automotive, Retail',\n",
       "       'Apps, Audio', 'Automotive, E-Commerce',\n",
       "       'Digital Entertainment, Fantasy Sports, Sports',\n",
       "       'E-Learning, EdTech, Education',\n",
       "       'Funding Platform, Incubators, Non Profit',\n",
       "       'Hospitality, Hotel, Leisure, Travel',\n",
       "       'Classifieds, Internet, Marketplace, Rental Property',\n",
       "       'Banking, E-Learning, Trading Platform',\n",
       "       'E-Commerce, Mobile, Retail',\n",
       "       'Artificial Intelligence, Information Technology',\n",
       "       'Enterprise Resource Planning (ERP), Information Services, Information Technology, Real Estate',\n",
       "       'Banking, Finance, Financial Services',\n",
       "       'Audio, Mobile, Tourism, Travel',\n",
       "       'Energy, Energy Storage, Infrastructure',\n",
       "       'Government, Information Technology, Software',\n",
       "       'Education, Information Technology, Internet, Mobile, Software',\n",
       "       'Consumer Lending, Financial Services, Lending, Personal Finance',\n",
       "       'Digital Media, Internet, Media and Entertainment, Online Portals, Social Media',\n",
       "       'Business Intelligence, Customer Service, Market Research, SaaS',\n",
       "       'Credit, Financial Services, FinTech, Lending',\n",
       "       'Children, Education, Parenting',\n",
       "       'Automotive, Battery, Energy, Energy Storage',\n",
       "       'E-Commerce, Mobile, Sharing Economy',\n",
       "       'Food Delivery, Organic, Organic Food', 'Mobile', 'Consumer',\n",
       "       'B2B, Farming, Marketplace', 'Wealth Management',\n",
       "       'Education, Gaming, Training',\n",
       "       'Internet, Mobile, Social Entrepreneurship, Telecommunications, Wireless',\n",
       "       'Health Care, Hospital, Supply Chain Management',\n",
       "       'Tourism, Travel', 'Hospitality, Real Estate',\n",
       "       'Digital Media, EBooks, Publishing, Reading Apps',\n",
       "       'Consumer Electronics, Embedded Systems, Hardware, Smart Building, Software',\n",
       "       'Food and Beverage, Food Processing',\n",
       "       'Internet, Marketplace, Shopping',\n",
       "       'Analytics, Computer Vision, Enterprise Software, Machine Learning, Natural Language Processing, Speech Recognition',\n",
       "       'Facilities Support Services',\n",
       "       'Automotive, Electric Vehicle, Energy',\n",
       "       'Health Care, Health Diagnostics, Predictive Analytics',\n",
       "       'Cloud Computing, Computer, SaaS, Software',\n",
       "       'Fashion, Lifestyle, Retail', 'Medical', 'Music Streaming',\n",
       "       'Finance, Impact Investing, Internet',\n",
       "       'Internet, Social Entrepreneurship',\n",
       "       'Finance, Impact Investing, Mobile Apps',\n",
       "       'Cloud Computing, Computer, Software',\n",
       "       'Business Development, Market Research, Outsourcing',\n",
       "       'Health Care, Hospitality', 'Internet, Social News, Sports',\n",
       "       'Finance, Financial Services, FinTech',\n",
       "       'Customer Service, Software, Video, Video Streaming',\n",
       "       'E-Commerce, Food Processing', 'Training',\n",
       "       'Dietary Supplements, Food and Beverage, Health Care, Organic Food, Snack Food',\n",
       "       'Manufacturing, Oil and Gas, Robotics',\n",
       "       'Artificial Intelligence, Computer, Machine Learning',\n",
       "       'Collaboration, Communities, Coworking, Sharing Economy',\n",
       "       'Big Data, EdTech, Machine Learning',\n",
       "       'Analytics, Audio, Digital Media, Innovation Management, Internet Radio, Media and Entertainment',\n",
       "       'Financial Services, Lending, Peer to Peer',\n",
       "       'E-Commerce, Furniture, Home Decor, Interior Design, Internet',\n",
       "       'File Sharing, Personalization, Social Media',\n",
       "       'Home Decor, Interior Design',\n",
       "       'Health Care, Medical Device, Mobile Apps',\n",
       "       'E-Commerce, Facilities Support Services, Procurement, Supply Chain Management',\n",
       "       'Crowdfunding, Finance, Financial Services',\n",
       "       'Finance, Financial Services, Insurance',\n",
       "       'Children, Education, Online Portals', 'Software, Virtual Reality',\n",
       "       'B2B, Food and Beverage, Food Delivery',\n",
       "       'Catering, Food and Beverage, Food Delivery, Food Processing',\n",
       "       'Food and Beverage, Snack Food', 'Automotive, E-Commerce, Mobile',\n",
       "       'Computer, Digital Marketing, Facilities Support Services, Graphic Design, Internet, Mobile Apps, Social Media Marketing, Web Development',\n",
       "       'Android, Big Data, Blockchain, Cloud Computing, EdTech, Education, Information Technology, iOS, Training, Web Development',\n",
       "       'Analytics, CRM, Loyalty Programs, Machine Learning, Marketing Automation, Retail Technology, SaaS, Small and Medium Businesses',\n",
       "       'Delivery, Information Technology, Mobile Apps',\n",
       "       'Environmental Consulting, Renewable Energy',\n",
       "       'Big Data, Business Intelligence, Financial Services, FinTech, Personal Finance',\n",
       "       'Commercial Real Estate, Coworking, Office Administration, Real Estate',\n",
       "       'Food and Beverage, Food Processing, Organic Food, Snack Food',\n",
       "       'Apps, Health Care, Internet, Mobile Apps, Personal Health',\n",
       "       'Digital Media, Incubators, Social Entrepreneurship',\n",
       "       'Finance, Financial Services, Marketing',\n",
       "       'Biotechnology, Health Care, Life Science, Medical Device',\n",
       "       'Education, Human Resources',\n",
       "       'Apps, Health Care, Hospital, Mobile Apps',\n",
       "       'Delivery Service, Logistics, Service Industry',\n",
       "       'Big Data, Data Visualization, Logistics, Software',\n",
       "       'Basketball, Cricket, Cycling, eSports, Fitness, Golf, Health Care, Hockey, Sports, Swimming, Table Tennis, Volley Ball',\n",
       "       'Media and Entertainment, News, Publishing',\n",
       "       'Big Data, Financial Services, Machine Learning, Predictive Analytics',\n",
       "       'Agriculture, AgTech, Manufacturing',\n",
       "       'Digital Media, News, Publishing', 'Health Care, Hospital',\n",
       "       'B2B, E-Commerce, Enterprise',\n",
       "       'Fraud Detection, Information Services, Security',\n",
       "       'Agriculture, AgTech, Artificial Intelligence, Internet of Things, Machine Learning',\n",
       "       'Cryptocurrency, Trading Platform',\n",
       "       'Finance, FinTech, Mobile Payments', 'Wedding',\n",
       "       'E-Learning, EdTech, Education, Image Recognition, Machine Learning, STEM Education',\n",
       "       'Digital Entertainment',\n",
       "       'Crowdsourcing, Financial Services, Funding Platform, Venture Capital',\n",
       "       'Delivery, Drones, Geospatial, Robotics',\n",
       "       'Health Care, Information Technology, Management Information Systems',\n",
       "       'Business Travel, Hospitality, Hotel, Marketplace, Tourism, Travel Accommodations',\n",
       "       'Career Planning, Education, Higher Education, Service Industry',\n",
       "       'Medical Device', 'Alternative Medicine, Health Care',\n",
       "       'Internet, Software',\n",
       "       'Dental, Elder Care, Health Care, Home Health Care, Personal Health',\n",
       "       'Financial Services, Insurance, Private Social Networking',\n",
       "       'Consumer Electronics, E-Commerce, E-Commerce Platforms, Electronics, Shipping, Shopping',\n",
       "       'Advertising, Internet, Marketing',\n",
       "       'Human Resources, Security, Training',\n",
       "       'Consumer Lending, Finance, FinTech',\n",
       "       'Marketing, Social Media, Video', 'Food Processing', 'Apps',\n",
       "       'Apps, B2B, Freight Service, Logistics, SaaS, Shipping, Supply Chain Management, Transportation',\n",
       "       'Digital Entertainment, Fantasy Sports, Gaming, Sports',\n",
       "       'Automotive, Last Mile Transportation, Peer to Peer, Ride Sharing',\n",
       "       'Commercial, E-Learning, Education',\n",
       "       'Continuing Education, EdTech, Education, Skill Assessment',\n",
       "       'Smart Cities, Telecommunications', 'Internet of Things, Robotics',\n",
       "       'Apps, Home Services, Information Services, Information Technology',\n",
       "       'Medical, Tourism', 'Career Planning, Education, Internet',\n",
       "       'Fashion, Graphic Design, Wearables',\n",
       "       'Communities, Leisure, Mobile Apps, Software',\n",
       "       'Automotive, Rental, Sharing Economy',\n",
       "       'Energy, Environmental Consulting, Renewable Energy, Solar',\n",
       "       'Information Technology, SaaS, Security',\n",
       "       'Crowdfunding, Financial Services, Internet',\n",
       "       'Customer Service, Information Technology, Internet, Sales Automation',\n",
       "       'Advertising, Artificial Intelligence, Digital Media, iOS, Location Based Services, News, Video, Video on Demand, Video Streaming',\n",
       "       'Credit Cards, Payments, Property Insurance, Property Management, Rental Property',\n",
       "       'Beauty, Cosmetics, Health Care, Service Industry',\n",
       "       'EdTech, Education, Mobile, Tutoring', 'Social Media, Sports',\n",
       "       'E-Commerce, E-Commerce Platforms, Retail',\n",
       "       'E-Commerce, Fashion, Shopping',\n",
       "       'Digital Entertainment, Mobile, PC Games',\n",
       "       'Finance, Financial Services, Small and Medium Businesses',\n",
       "       'Artificial Intelligence, Energy, Oil and Gas',\n",
       "       'Computer, FinTech, Risk Management, Software',\n",
       "       'Apps, Financial Services, FinTech',\n",
       "       \"Child Care, Health Care, Hospital, Medical, Women's\",\n",
       "       'Agriculture, Mobile',\n",
       "       'Finance, FinTech, Payments, Property Development, Rental',\n",
       "       'Information Services, Information Technology, Mobile, Software',\n",
       "       'Apps, Fitness, Health Care, mHealth',\n",
       "       'Food and Beverage, Food Delivery', 'Apps, Payments, Retail',\n",
       "       'Health Insurance, Insurance, Life Insurance',\n",
       "       'Rental, Taxi Service, Travel',\n",
       "       'E-Commerce, E-Commerce Platforms, Internet, Retail',\n",
       "       'Financial Services, Professional Services',\n",
       "       'Customer Service, Messaging, Mobile Apps, Personalization',\n",
       "       'Gaming, iOS, Sports',\n",
       "       'E-Commerce, E-Commerce Platforms, Internet, Mobile Apps, Social Media',\n",
       "       'Search Engine',\n",
       "       'Battery, Electric Vehicle, Energy, Renewable Energy, Transportation',\n",
       "       'Agriculture, Farmers Market, Farming',\n",
       "       'Artificial Intelligence, Drones, Navigation, Packaging Services, Robotics',\n",
       "       'Fitness, GreenTech, Internet of Things, Mobile Apps, Ride Sharing, Transportation',\n",
       "       'Mobile, Software, Travel',\n",
       "       'Consulting, Cyber Security, Network Security',\n",
       "       'eSports, Gaming, Video Games', 'Fashion, Jewelry',\n",
       "       'B2B, Medical Device', 'Consumer Goods, Manufacturing',\n",
       "       'Biotechnology, Health Care, Wellness',\n",
       "       'Health Care, Hospital, Medical, Robotics',\n",
       "       'E-Commerce, Fitness, Health Care',\n",
       "       'Financial Services, Venture Capital', 'Accounting, Apps, FinTech',\n",
       "       'Apps, Mobile, Transportation', 'Reading Apps',\n",
       "       'Energy, Renewable Energy, Solar',\n",
       "       'Banking, Financial Services, FinTech', 'Apps, Education, Retail',\n",
       "       'Electric Vehicle',\n",
       "       'Automotive, Battery, Electric Vehicle, Manufacturing, Mechanical Design',\n",
       "       'Automotive, E-Commerce, Marketplace',\n",
       "       'Apps, Information Services, Information Technology',\n",
       "       'B2B, Marketplace', 'Packaging Services',\n",
       "       'Computer, Furniture, Software',\n",
       "       'Food Delivery, Hospitality, Reservations, Restaurants, Search Engine',\n",
       "       'Collaboration, Communities, Coworking, Real Estate',\n",
       "       'Accounting, Banking, Finance',\n",
       "       'Cloud Computing, Enterprise Software, Network Hardware, Network Security, SaaS',\n",
       "       'Information Services, Internet, Logistics, Supply Chain Management, Transportation',\n",
       "       'Automotive, E-Commerce, Information Services',\n",
       "       'Delivery, Logistics, Transportation',\n",
       "       'Automotive, E-Commerce Platforms, Marketplace',\n",
       "       'Last Mile Transportation, Railroad, Transportation, Travel',\n",
       "       'Cooking, E-Commerce, Food and Beverage, Food Delivery, Online Portals',\n",
       "       'FinTech, Mobile, Mobile Payments, Payments, Retail Technology',\n",
       "       'Online Games, Software',\n",
       "       'Online Portals, Property Management, Rental',\n",
       "       'E-Commerce, Food and Beverage, Tea',\n",
       "       'Music, Social Network, Video',\n",
       "       'Health Care, Pharmaceutical, Wellness',\n",
       "       'Delivery Service, Food and Beverage, Food Delivery',\n",
       "       'Hospitality, Information Technology, Travel Accommodations',\n",
       "       'Biotechnology, Diabetes, Health Care',\n",
       "       'Autonomous Vehicles, Last Mile Transportation, Recreational Vehicles, Rental',\n",
       "       'Finance, Financial Exchanges, Financial Services, Micro Lending',\n",
       "       'Analytics, Apps, Market Research',\n",
       "       'E-Commerce, E-Commerce Platforms, Furniture, Home Decor, Internet',\n",
       "       'Apps, Mobile, Mobile Apps, Software',\n",
       "       'News, Publishing, Social Media',\n",
       "       'Industrial, Industrial Automation',\n",
       "       'Internet, Mobile Apps, Social Network',\n",
       "       'Health Care, Health Diagnostics, Internet of Things, Life Science, Machine Learning, Medical, Medical Device',\n",
       "       'E-Commerce, Furniture, Interior Design', 'Apps, Events, News',\n",
       "       'Artificial Intelligence, Human Resources, Information Services, Information Technology',\n",
       "       'Logistics, Railroad, Transportation',\n",
       "       'Dating, Private Social Networking',\n",
       "       'Artificial Intelligence, Machine Learning, PaaS',\n",
       "       'Consumer, Furniture, Home Decor, Home Improvement',\n",
       "       'Apps, E-Commerce, Internet, Mobile, Ride Sharing, Transportation',\n",
       "       'Health Care, Health Insurance', 'Energy, Natural Resources',\n",
       "       'E-Commerce, Education, Health Care',\n",
       "       'Apps, Health Care, Pharmaceutical',\n",
       "       'Internet, Knowledge Management',\n",
       "       'Credit, Finance, FinTech, Lending, Sales Automation',\n",
       "       'Banking, Financial Services, Internet',\n",
       "       'E-Commerce, Health Care, Retail',\n",
       "       'Child Care, Information Technology',\n",
       "       'Financial Services, Micro Lending',\n",
       "       'E-Commerce, Retail, Shopping',\n",
       "       'Food and Beverage, Snack Food, Tea',\n",
       "       'Delivery Service, E-Commerce, Logistics',\n",
       "       'Fashion, Lifestyle, Rental', 'Fantasy Sports, Mobile, Sports',\n",
       "       'Beauty, Fashion, Wellness', 'Food and Beverage, Restaurants, Tea',\n",
       "       'Fitness, Sporting Goods, Sports',\n",
       "       'Food and Beverage, Food Processing, Manufacturing',\n",
       "       'E-Learning, Internet', 'Eyewear, Internet',\n",
       "       'Information Technology, Mobile, News, Operating Systems, Social Media, Social News',\n",
       "       'FinTech, Internet, Payments, Service Industry',\n",
       "       'B2B, Business Development, Internet, Marketplace',\n",
       "       'Food and Beverage, Food Delivery, Internet',\n",
       "       'Biotechnology, Health Care, Pharmaceutical'], dtype=object)"
      ]
     },
     "execution_count": 79,
     "metadata": {},
     "output_type": "execute_result"
    }
   ],
   "source": [
    "df_combined['Sector'].unique()"
   ]
  },
  {
   "cell_type": "code",
   "execution_count": 80,
   "metadata": {},
   "outputs": [],
   "source": [
    "def sector_redistribution(Sector):\n",
    "    # Check if the sector is a float or NaN\n",
    "    if isinstance(Sector, float) and not np.isnan(Sector):\n",
    "        # Convert float to string\n",
    "        return str(int(Sector))  # Convert float to integer and then to string\n",
    "    elif pd.isnull(Sector):\n",
    "        # Handle NaN values, you can return a default value or handle as needed\n",
    "        return 'Unknown'\n",
    "    else:\n",
    "        # Sector is already a string, return it as is\n",
    "        return Sector"
   ]
  },
  {
   "cell_type": "code",
   "execution_count": 81,
   "metadata": {},
   "outputs": [],
   "source": [
    "def Sector_redistribution(Sector):\n",
    "    if isinstance(Sector, str):\n",
    "        if re.search(r'bank|fintech|finance|crypto|account|credit|venture|crowd|blockchain', Sector, re.IGNORECASE):\n",
    "            return 'Finance'\n",
    "        elif re.search(r'automotive|air transport|transport|logistics|vehicle|transportation', Sector, re.IGNORECASE):\n",
    "            return 'Transport'\n",
    "        else:\n",
    "            return Sector\n",
    "    else:\n",
    "        return Sector\n"
   ]
  },
  {
   "cell_type": "code",
   "execution_count": 82,
   "metadata": {},
   "outputs": [],
   "source": [
    "# Apply the function to the 'Sector' column\n",
    "df_combined['Sector'] = df_combined['Sector'].apply(Sector_redistribution)"
   ]
  },
  {
   "cell_type": "code",
   "execution_count": 83,
   "metadata": {},
   "outputs": [],
   "source": [
    "df_combined['Sector'].fillna('Unknown', inplace=True)"
   ]
  },
  {
   "cell_type": "markdown",
   "metadata": {},
   "source": [
    "FOUNDERS"
   ]
  },
  {
   "cell_type": "code",
   "execution_count": 84,
   "metadata": {},
   "outputs": [
    {
     "data": {
      "text/plain": [
       "array(['Prasanna Manogaran, Bharani C L',\n",
       "       'Saurabh Dixit, Gurudutt Upadhyay', 'Ajinkya Dhariya', ...,\n",
       "       'Pavan Kushwaha', 'Jeevan Chowdary M, Harshit Harchani',\n",
       "       'Niraj Singh, Ramanshu Mahaur, Ganesh Pawar, Mohit Gupta'],\n",
       "      dtype=object)"
      ]
     },
     "execution_count": 84,
     "metadata": {},
     "output_type": "execute_result"
    }
   ],
   "source": [
    "df_combined['Founders'].unique()"
   ]
  },
  {
   "cell_type": "code",
   "execution_count": 85,
   "metadata": {},
   "outputs": [
    {
     "data": {
      "text/plain": [
       "Founders\n",
       "Byju Raveendran                                              7\n",
       "Ashneer Grover, Shashvat Nakrani                             7\n",
       "Byju Raveendran, Divya Gokulnath                             6\n",
       "Falguni Nayar                                                6\n",
       "Sai Srinivas Kiran G, Shubham Malhotra                       5\n",
       "Ritesh Agarwal                                               5\n",
       "Bhavish Aggarwal                                             5\n",
       "Gaurav Hinduja, Sashank Rishyasringa                         4\n",
       "Sarvesh Shashi                                               4\n",
       "Virendra Gupta                                               4\n",
       "Kunal Shah                                                   4\n",
       "Ajith Mohan Karimpana                                        4\n",
       "Saurabh Saxena, Pulkit Jain, Anand Prakash, Vamsi Krishna    4\n",
       "Sreevathsa Prabhakar                                         4\n",
       "Utham Gowda                                                  4\n",
       "Nikhil Bohra                                                 4\n",
       "Geetansh Bamania                                             4\n",
       "Ashish Jhina, Karthik Venkateswaran                          4\n",
       "Nirmit Parikh                                                4\n",
       "Sahil Sheth                                                  4\n",
       "Name: count, dtype: int64"
      ]
     },
     "execution_count": 85,
     "metadata": {},
     "output_type": "execute_result"
    }
   ],
   "source": [
    "# Analyzing the most frequent founders' names\n",
    "founders_frequency = df_combined['Founders'].value_counts()\n",
    "founders_frequency.head(20)  # Displaying top 20 most frequent founders' names"
   ]
  },
  {
   "cell_type": "code",
   "execution_count": 86,
   "metadata": {},
   "outputs": [],
   "source": [
    "# Step 1: Replace anomalies with NaN\n",
    "def clean_founders(founders):\n",
    "    if isinstance(founders, str) and re.search(r'^\\s*\\.+\\s*$|^\\s*$|unknown|nan', founders, re.IGNORECASE):\n",
    "        return np.nan\n",
    "    return founders\n",
    "\n",
    "df_combined['Founders'] = df_combined['Founders'].apply(clean_founders)\n",
    "\n"
   ]
  },
  {
   "cell_type": "code",
   "execution_count": 87,
   "metadata": {},
   "outputs": [
    {
     "data": {
      "text/plain": [
       "\"Remaining missing values in 'Founders' column: 712\""
      ]
     },
     "execution_count": 87,
     "metadata": {},
     "output_type": "execute_result"
    }
   ],
   "source": [
    "# Check the remaining missing values\n",
    "missing_founders_count = df_combined['Founders'].isna().sum()\n",
    "f\"Remaining missing values in 'Founders' column: {missing_founders_count}\""
   ]
  },
  {
   "cell_type": "code",
   "execution_count": 88,
   "metadata": {},
   "outputs": [],
   "source": [
    "# Step 2: Use the most frequent names to fill missing values\n",
    "most_frequent_founders = [\n",
    "    \"Ashneer Grover, Shashvat Nakrani\",\n",
    "    \"Byju Raveendran, Divya Gokulnath\",\n",
    "    \"Ritesh Agarwal\",\n",
    "    \"Bhavish Aggarwal\",\n",
    "    \"Nirmit Parikh\",\n",
    "    \"Prabhkiran Singh\",\n",
    "    \"Ankur Gupta\",\n",
    "    \"Utham Gowda\",\n",
    "    \"Kunal Shah\",\n",
    "    \"Ashish Singhal, Govind Soni, Vimal Sagar Tiwari\",\n",
    "    \"Kshama Fernandes\",\n",
    "    \"Saurav Kumar\",\n",
    "    \"Saurabh Saxena\",\n",
    "    \"Nitish Mittersain\",\n",
    "    \"Sankar Bora, Sourjyendu Medda, Vineet Rao\",\n",
    "    \"Kajal Ilmi\",\n",
    "    \"Sai Srinivas Kiran G, Shubham Malhotra\",\n",
    "    \"Aman Gupta, Sameer Mehta\",\n",
    "    \"Vineet Khanna, Varun Sadana, Aman Tekriwal\",\n",
    "    \"Sahil Barua\"\n",
    "]"
   ]
  },
  {
   "cell_type": "code",
   "execution_count": 89,
   "metadata": {},
   "outputs": [],
   "source": [
    "# Function to fill missing values\n",
    "def fill_missing_founders_with_patterns(founders):\n",
    "    if pd.isna(founders):\n",
    "        return np.random.choice(most_frequent_founders)\n",
    "    return founders\n",
    "\n",
    "df_combined['Founders'] = df_combined['Founders'].apply(fill_missing_founders_with_patterns)"
   ]
  },
  {
   "cell_type": "code",
   "execution_count": 90,
   "metadata": {},
   "outputs": [
    {
     "data": {
      "text/plain": [
       "\"Remaining missing values in 'Founders' column after imputation: 0\""
      ]
     },
     "execution_count": 90,
     "metadata": {},
     "output_type": "execute_result"
    }
   ],
   "source": [
    "# Step 3: Verify if there are any remaining missing values\n",
    "remaining_missing_values = df_combined['Founders'].isna().sum()\n",
    "f\"Remaining missing values in 'Founders' column after imputation: {remaining_missing_values}\""
   ]
  },
  {
   "cell_type": "markdown",
   "metadata": {},
   "source": [
    "INVESTORS"
   ]
  },
  {
   "cell_type": "code",
   "execution_count": 91,
   "metadata": {},
   "outputs": [
    {
     "data": {
      "text/plain": [
       "array(['Angel investors', 'GSF Accelerator', 'Venture Center', ...,\n",
       "       'Norwest Venture Partners, General Catalyst, Fundamentum, Accel Partners',\n",
       "       'TPG, Norwest Venture Partners, Evolvence India', nan],\n",
       "      dtype=object)"
      ]
     },
     "execution_count": 91,
     "metadata": {},
     "output_type": "execute_result"
    }
   ],
   "source": [
    "df_combined['Investor'].unique()"
   ]
  },
  {
   "cell_type": "code",
   "execution_count": 92,
   "metadata": {},
   "outputs": [
    {
     "data": {
      "text/plain": [
       "Investor\n",
       "Inflection Point Ventures    36\n",
       "Venture Catalysts            32\n",
       "Mumbai Angels Network        17\n",
       "Angel investors              15\n",
       "Undisclosed                  13\n",
       "Tiger Global                 12\n",
       "Titan Capital                11\n",
       "Unicorn India Ventures       10\n",
       "Sequoia Capital India         9\n",
       "Alteria Capital               9\n",
       "Better Capital                9\n",
       "Trifecta Capital              8\n",
       "Y Combinator                  7\n",
       "Elevation Capital             7\n",
       "9Unicorns                     7\n",
       "Kalaari Capital               6\n",
       "Sixth Sense Ventures          6\n",
       "Chiratae Ventures             6\n",
       "Sequoia India                 6\n",
       "Anicut Angel Fund             6\n",
       "Name: count, dtype: int64"
      ]
     },
     "execution_count": 92,
     "metadata": {},
     "output_type": "execute_result"
    }
   ],
   "source": [
    "# Analyzing the most frequent founders' names\n",
    "Investor_frequency = df_combined['Investor'].value_counts()\n",
    "Investor_frequency.head(20)  # Displaying top 20 most frequent Investor' names"
   ]
  },
  {
   "cell_type": "code",
   "execution_count": 93,
   "metadata": {},
   "outputs": [],
   "source": [
    "# Step 1: Clean the 'Investor' column by replacing anomalies and NaN values\n",
    "def clean_investor(investor):\n",
    "    if isinstance(investor, str) and re.search(r'^\\s*\\.+\\s*$|^\\s*$|unknown|nan', investor, re.IGNORECASE):\n",
    "        return np.nan\n",
    "    return investor\n",
    "\n",
    "df_combined['Investor'] = df_combined['Investor'].apply(clean_investor)"
   ]
  },
  {
   "cell_type": "code",
   "execution_count": 94,
   "metadata": {},
   "outputs": [],
   "source": [
    "# List of top 20 most frequent investors\n",
    "top_investors = [\n",
    "    'Inflection Point Ventures', 'Venture Catalysts', 'Tiger Global', 'Elevation Capital',\n",
    "    'Titan Capital', 'We Founder Circle', 'Sixth Sense Ventures', 'Sequoia Capital India',\n",
    "    'Kalaari Capital', 'Anicut Angel Fund', 'Alteria Capital', 'Mumbai Angels Network',\n",
    "    'SucSEED Indovation Fund', 'Venture Catalysts, 9Unicorns Accelerator Fund', '9Unicorns',\n",
    "    'Better Capital', 'Unicorn India Ventures', 'Blue Ashva Capital', 'Y Combinator', 'Sequoia Capital'\n",
    "]"
   ]
  },
  {
   "cell_type": "code",
   "execution_count": 95,
   "metadata": {},
   "outputs": [],
   "source": [
    "# Function to fill missing values with top 20 most frequent investors\n",
    "def fill_missing_investors(investor):\n",
    "    if pd.isna(investor):\n",
    "        return np.random.choice(top_investors)\n",
    "    return investor\n",
    "\n",
    "# Apply the fill_missing_investors function to fill missing values\n",
    "df_combined['Investor'] = df_combined['Investor'].apply(fill_missing_investors)"
   ]
  },
  {
   "cell_type": "markdown",
   "metadata": {},
   "source": [
    "STAGE"
   ]
  },
  {
   "cell_type": "code",
   "execution_count": 96,
   "metadata": {},
   "outputs": [
    {
     "data": {
      "text/plain": [
       "array([None, 'Pre-seed', 'Seed', 'Pre-series A', 'Pre-series', 'Series C',\n",
       "       'Series A', 'Series B', 'Debt', 'Pre-series C', 'Pre-series B',\n",
       "       'Series E', 'Bridge', 'Series D', 'Series B2', 'Series F',\n",
       "       'Pre- series A', 'Edge', 'Series H', 'Pre-Series B', 'Seed A',\n",
       "       'Series A-1', 'Seed Funding', 'Pre-Seed', 'Seed round',\n",
       "       'Pre-seed Round', 'Seed Round & Series A', 'Pre Series A',\n",
       "       'Pre seed Round', 'Angel Round', 'Pre series A1', 'Series E2',\n",
       "       'Pre series A', 'Seed Round', 'Bridge Round', 'Pre seed round',\n",
       "       'Pre series B', 'Pre series C', 'Seed Investment', 'Series D1',\n",
       "       'Mid series', 'Series C, D', 'Seed funding', '$1200000', 'Seed+',\n",
       "       'Series F2', 'Series A+', 'Series G', 'Series B3', 'PE',\n",
       "       'Series F1', 'Pre-series A1', '$300000', 'Early seed', '$6000000',\n",
       "       '$1000000', 'Seies A', 'Series A2', 'Series I', nan,\n",
       "       'Fresh funding', 'Post series A', 'Seed fund', 'Series B+',\n",
       "       'Angel', 'Private Equity', 'Venture - Series Unknown', 'Grant',\n",
       "       'Debt Financing', 'Post-IPO Debt', 'Corporate Round',\n",
       "       'Undisclosed',\n",
       "       'https://docs.google.com/spreadsheets/d/1x9ziNeaz6auNChIHnMI8U6kS7knTr3byy_YBGfQaoUA/edit#gid=1861303593',\n",
       "       'Secondary Market', 'Post-IPO Equity', 'Non-equity Assistance',\n",
       "       'Funding Round'], dtype=object)"
      ]
     },
     "execution_count": 96,
     "metadata": {},
     "output_type": "execute_result"
    }
   ],
   "source": [
    "df_combined['Stage'].unique()"
   ]
  },
  {
   "cell_type": "code",
   "execution_count": 97,
   "metadata": {},
   "outputs": [],
   "source": [
    "Stage_unique = {\n",
    "'Stage': [\n",
    "        np.nan, 'Series C', 'Fresh funding', 'Series D', 'Pre series A', 'Series A', 'Series G', 'Series B',\n",
    "        'Post series A', 'Seed funding', 'Seed fund', 'Series E', 'Series F', 'Series B+', 'Seed round',\n",
    "        'Pre-series A', None, 'Seed', 'Pre-seed', 'Pre-series B', 'Debt', '$1200000', 'Bridge', 'Seed+', 'Series F2',\n",
    "        'Series A+', 'Series H', 'Series B3', 'PE', 'Series F1', 'Pre-series A1', '$300000', 'Early seed', 'Series D1',\n",
    "        '$6000000', '$1000000', 'Seies A', 'Pre-series', 'Series A2', 'Series I', 'Angel', 'Pre-Seed', 'Private Equity',\n",
    "        'Venture - Series Unknown', 'Grant', 'Debt Financing', 'Post-IPO Debt', 'Corporate Round', 'Undisclosed',\n",
    "        'https://docs.google.com/spreadsheets/d/1x9ziNeaz6auNChIHnMI8U6kS7knTr3byy_YBGfQaoUA/edit#gid=1861303593',\n",
    "        'Secondary Market', 'Post-IPO Equity', 'Non-equity Assistance', 'Funding Round'\n",
    "    ]\n",
    "}"
   ]
  },
  {
   "cell_type": "code",
   "execution_count": 98,
   "metadata": {},
   "outputs": [],
   "source": [
    "# List of legitimate stages\n",
    "legitimate_stages = [\n",
    "    'Series A', 'Series B', 'Series C', 'Series D', 'Series E', 'Series F', 'Series G', 'Series H', 'Series I',\n",
    "    'Seed', 'Pre-Seed', 'Seed Funding', 'Early Seed', 'Seed Round', 'Series A+', 'Series B+', 'Series D1',\n",
    "    'Fresh Funding', 'Bridge', 'Private Equity', 'Debt Financing', 'Venture - Series Unknown'\n",
    "]"
   ]
  },
  {
   "cell_type": "code",
   "execution_count": 99,
   "metadata": {},
   "outputs": [],
   "source": [
    "# Function to clean and replace stages\n",
    "def clean_and_replace_stages(stage):\n",
    "    if pd.isna(stage) or stage not in legitimate_stages:\n",
    "        return np.random.choice(legitimate_stages)\n",
    "    return stage\n"
   ]
  },
  {
   "cell_type": "code",
   "execution_count": 100,
   "metadata": {},
   "outputs": [],
   "source": [
    "stage_mapping = {\n",
    "    'Series A': 'Series A', 'Series A+': 'Series A', 'Series A2': 'Series A', 'Seies A': 'Series A',\n",
    "    'Series B': 'Series B', 'Series B+': 'Series B', 'Series B3': 'Series B',\n",
    "    'Series C': 'Series C',\n",
    "    'Series D': 'Series D', 'Series D1': 'Series D',\n",
    "    'Series E': 'Series E',\n",
    "    'Series F': 'Series F', 'Series F1': 'Series F', 'Series F2': 'Series F',\n",
    "    'Series G': 'Series G',\n",
    "    'Series H': 'Series H',\n",
    "    'Series I': 'Series I',\n",
    "    'Seed': 'Seed', 'Seed funding': 'Seed', 'Seed fund': 'Seed', 'Seed round': 'Seed', 'Early seed': 'Seed', 'Seed+': 'Seed',\n",
    "    'Pre-seed': 'Pre-seed', 'Pre-Seed': 'Pre-seed',\n",
    "    'Pre series A': 'Pre-series A', 'Pre-series A': 'Pre-series A', 'Pre-series A1': 'Pre-series A',\n",
    "    'Pre-series B': 'Pre-series B',\n",
    "    'Fresh funding': 'Undisclosed', 'Debt': 'Debt', 'Debt Financing': 'Debt', 'Post-IPO Debt': 'Debt',\n",
    "    'PE': 'Private Equity', 'Private Equity': 'Private Equity', 'Bridge': 'Bridge', 'Grant': 'Grant',\n",
    "    'Post-IPO Equity': 'Post-IPO Equity', 'Secondary Market': 'Secondary Market',\n",
    "    'Non-equity Assistance': 'Non-equity Assistance', 'Corporate Round': 'Corporate Round', 'Venture - Series Unknown': 'Venture - Series Unknown',\n",
    "    'Funding Round': 'Funding Round', 'Undisclosed': 'Undisclosed'\n",
    "}"
   ]
  },
  {
   "cell_type": "code",
   "execution_count": 101,
   "metadata": {},
   "outputs": [],
   "source": [
    "# Apply the clean_and_replace_stages function to clean and replace missing values\n",
    "df_combined['Stage'] = df_combined['Stage'].apply(clean_and_replace_stages)"
   ]
  },
  {
   "cell_type": "code",
   "execution_count": 102,
   "metadata": {},
   "outputs": [],
   "source": [
    "# Drop the column at index 10\n",
    "\n",
    "df_combined.drop('column10', axis=1, inplace=True)"
   ]
  },
  {
   "cell_type": "code",
   "execution_count": 103,
   "metadata": {},
   "outputs": [
    {
     "data": {
      "text/html": [
       "<div>\n",
       "<style scoped>\n",
       "    .dataframe tbody tr th:only-of-type {\n",
       "        vertical-align: middle;\n",
       "    }\n",
       "\n",
       "    .dataframe tbody tr th {\n",
       "        vertical-align: top;\n",
       "    }\n",
       "\n",
       "    .dataframe thead th {\n",
       "        text-align: right;\n",
       "    }\n",
       "</style>\n",
       "<table border=\"1\" class=\"dataframe\">\n",
       "  <thead>\n",
       "    <tr style=\"text-align: right;\">\n",
       "      <th></th>\n",
       "      <th>Year</th>\n",
       "      <th>HeadQuarter</th>\n",
       "      <th>Sector</th>\n",
       "      <th>Founders</th>\n",
       "      <th>Investor</th>\n",
       "      <th>Stage</th>\n",
       "      <th>Company_Brand</th>\n",
       "      <th>What_it_does</th>\n",
       "      <th>Amount</th>\n",
       "    </tr>\n",
       "  </thead>\n",
       "  <tbody>\n",
       "    <tr>\n",
       "      <th>145</th>\n",
       "      <td>2015-01-01</td>\n",
       "      <td>Jodhpur</td>\n",
       "      <td>Biotechnology company</td>\n",
       "      <td>Nikhil Bohra</td>\n",
       "      <td>Rajasthan Venture Capital Fund, AIM Smart City</td>\n",
       "      <td>Seed</td>\n",
       "      <td>Krimanshi</td>\n",
       "      <td>Krimanshi aims to increase rural income by imp...</td>\n",
       "      <td>600000.0</td>\n",
       "    </tr>\n",
       "    <tr>\n",
       "      <th>1298</th>\n",
       "      <td>2021-01-01</td>\n",
       "      <td>Bengaluru</td>\n",
       "      <td>Capital Markets</td>\n",
       "      <td>Manvendra Singh, Gaurav Agarwal</td>\n",
       "      <td>Accel India</td>\n",
       "      <td>Series A</td>\n",
       "      <td>Trinkerr</td>\n",
       "      <td>Trinkerr is India's first social trading platf...</td>\n",
       "      <td>6600000.0</td>\n",
       "    </tr>\n",
       "    <tr>\n",
       "      <th>1299</th>\n",
       "      <td>2021-01-01</td>\n",
       "      <td>Gurugram</td>\n",
       "      <td>Social network</td>\n",
       "      <td>Jasveer Singh, Abhishek Asthana, Deepak Kumar</td>\n",
       "      <td>Vijay Shekhar Sharma, Ritesh Agarwal, Ankiti Bose</td>\n",
       "      <td>Seed</td>\n",
       "      <td>Zorro</td>\n",
       "      <td>Pseudonymous social network platform</td>\n",
       "      <td>32000000.0</td>\n",
       "    </tr>\n",
       "    <tr>\n",
       "      <th>1300</th>\n",
       "      <td>2021-01-01</td>\n",
       "      <td>Bengaluru</td>\n",
       "      <td>Transport</td>\n",
       "      <td>Subramaniam Narayan, Niraj Rajmohan</td>\n",
       "      <td>TVS Motor, Zoho</td>\n",
       "      <td>Series C</td>\n",
       "      <td>Ultraviolette</td>\n",
       "      <td>Create and Inspire the future of sustainable u...</td>\n",
       "      <td>150000000.0</td>\n",
       "    </tr>\n",
       "    <tr>\n",
       "      <th>1301</th>\n",
       "      <td>2009-01-01</td>\n",
       "      <td>Hyderabad</td>\n",
       "      <td>Hospital &amp; Health Care</td>\n",
       "      <td>Vikram Vuppala</td>\n",
       "      <td>IIFL Asset Management</td>\n",
       "      <td>Series E</td>\n",
       "      <td>NephroPlus</td>\n",
       "      <td>A vision and passion of redefining healthcare ...</td>\n",
       "      <td>24000000.0</td>\n",
       "    </tr>\n",
       "    <tr>\n",
       "      <th>1303</th>\n",
       "      <td>2021-01-01</td>\n",
       "      <td>Bengaluru</td>\n",
       "      <td>Financial Services</td>\n",
       "      <td>Varun Chaudhary, Amit Kumar</td>\n",
       "      <td>Oasis Capital, Scorpio VC, DeltaHub Capital</td>\n",
       "      <td>Seed</td>\n",
       "      <td>FanAnywhere</td>\n",
       "      <td>Celebrity NFT platform</td>\n",
       "      <td>4000000.0</td>\n",
       "    </tr>\n",
       "    <tr>\n",
       "      <th>1305</th>\n",
       "      <td>2021-01-01</td>\n",
       "      <td>Mumbai</td>\n",
       "      <td>Music</td>\n",
       "      <td>Gaurav Dagaonkar, Meghna Mittal</td>\n",
       "      <td>9Unicorns, Ashneer Grover</td>\n",
       "      <td>Seed</td>\n",
       "      <td>Spry</td>\n",
       "      <td>THE BEST ROYALTY-FREE MUSIC TO CREATE TRENDING...</td>\n",
       "      <td>1500000.0</td>\n",
       "    </tr>\n",
       "    <tr>\n",
       "      <th>1310</th>\n",
       "      <td>2020-01-01</td>\n",
       "      <td>Food &amp; Beverages</td>\n",
       "      <td>Hauz Khas</td>\n",
       "      <td>Vidur Kataria, Sidhanth Madan</td>\n",
       "      <td>WEH Ventures</td>\n",
       "      <td>Seed</td>\n",
       "      <td>MasterChow</td>\n",
       "      <td>A ready-to-cook Asian cuisine brand</td>\n",
       "      <td>461000.0</td>\n",
       "    </tr>\n",
       "    <tr>\n",
       "      <th>1311</th>\n",
       "      <td>2009-01-01</td>\n",
       "      <td>Pharmaceuticals</td>\n",
       "      <td>Primary Business is Development and Manufactur...</td>\n",
       "      <td>Morgan Stanley Private Equity Asia</td>\n",
       "      <td>$22000000</td>\n",
       "      <td>Fresh Funding</td>\n",
       "      <td>Fullife Healthcare</td>\n",
       "      <td>Varun Khanna</td>\n",
       "      <td>4000000.0</td>\n",
       "    </tr>\n",
       "  </tbody>\n",
       "</table>\n",
       "</div>"
      ],
      "text/plain": [
       "           Year       HeadQuarter  \\\n",
       "145  2015-01-01           Jodhpur   \n",
       "1298 2021-01-01         Bengaluru   \n",
       "1299 2021-01-01          Gurugram   \n",
       "1300 2021-01-01         Bengaluru   \n",
       "1301 2009-01-01         Hyderabad   \n",
       "1303 2021-01-01         Bengaluru   \n",
       "1305 2021-01-01            Mumbai   \n",
       "1310 2020-01-01  Food & Beverages   \n",
       "1311 2009-01-01   Pharmaceuticals   \n",
       "\n",
       "                                                 Sector  \\\n",
       "145                               Biotechnology company   \n",
       "1298                                    Capital Markets   \n",
       "1299                                     Social network   \n",
       "1300                                          Transport   \n",
       "1301                             Hospital & Health Care   \n",
       "1303                                 Financial Services   \n",
       "1305                                              Music   \n",
       "1310                                          Hauz Khas   \n",
       "1311  Primary Business is Development and Manufactur...   \n",
       "\n",
       "                                           Founders  \\\n",
       "145                                    Nikhil Bohra   \n",
       "1298                Manvendra Singh, Gaurav Agarwal   \n",
       "1299  Jasveer Singh, Abhishek Asthana, Deepak Kumar   \n",
       "1300            Subramaniam Narayan, Niraj Rajmohan   \n",
       "1301                                 Vikram Vuppala   \n",
       "1303                    Varun Chaudhary, Amit Kumar   \n",
       "1305                Gaurav Dagaonkar, Meghna Mittal   \n",
       "1310                  Vidur Kataria, Sidhanth Madan   \n",
       "1311             Morgan Stanley Private Equity Asia   \n",
       "\n",
       "                                               Investor          Stage  \\\n",
       "145      Rajasthan Venture Capital Fund, AIM Smart City           Seed   \n",
       "1298                                        Accel India       Series A   \n",
       "1299  Vijay Shekhar Sharma, Ritesh Agarwal, Ankiti Bose           Seed   \n",
       "1300                                    TVS Motor, Zoho       Series C   \n",
       "1301                              IIFL Asset Management       Series E   \n",
       "1303        Oasis Capital, Scorpio VC, DeltaHub Capital           Seed   \n",
       "1305                          9Unicorns, Ashneer Grover           Seed   \n",
       "1310                                       WEH Ventures           Seed   \n",
       "1311                                          $22000000  Fresh Funding   \n",
       "\n",
       "           Company_Brand                                       What_it_does  \\\n",
       "145            Krimanshi  Krimanshi aims to increase rural income by imp...   \n",
       "1298            Trinkerr  Trinkerr is India's first social trading platf...   \n",
       "1299               Zorro               Pseudonymous social network platform   \n",
       "1300       Ultraviolette  Create and Inspire the future of sustainable u...   \n",
       "1301          NephroPlus  A vision and passion of redefining healthcare ...   \n",
       "1303         FanAnywhere                             Celebrity NFT platform   \n",
       "1305                Spry  THE BEST ROYALTY-FREE MUSIC TO CREATE TRENDING...   \n",
       "1310          MasterChow                A ready-to-cook Asian cuisine brand   \n",
       "1311  Fullife Healthcare                                       Varun Khanna   \n",
       "\n",
       "           Amount  \n",
       "145      600000.0  \n",
       "1298    6600000.0  \n",
       "1299   32000000.0  \n",
       "1300  150000000.0  \n",
       "1301   24000000.0  \n",
       "1303    4000000.0  \n",
       "1305    1500000.0  \n",
       "1310     461000.0  \n",
       "1311    4000000.0  "
      ]
     },
     "execution_count": 103,
     "metadata": {},
     "output_type": "execute_result"
    }
   ],
   "source": [
    "duplicate_rows = df_combined[df_combined.duplicated()]\n",
    "duplicate_rows"
   ]
  }
 ],
 "metadata": {
  "kernelspec": {
   "display_name": "base",
   "language": "python",
   "name": "python3"
  },
  "language_info": {
   "codemirror_mode": {
    "name": "ipython",
    "version": 3
   },
   "file_extension": ".py",
   "mimetype": "text/x-python",
   "name": "python",
   "nbconvert_exporter": "python",
   "pygments_lexer": "ipython3",
   "version": "3.11.7"
  }
 },
 "nbformat": 4,
 "nbformat_minor": 2
}
